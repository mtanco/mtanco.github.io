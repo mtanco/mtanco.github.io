{
 "cells": [
  {
   "cell_type": "markdown",
   "metadata": {},
   "source": [
    "A feature of Aster and the new Vantage is that you can write custom, anlaytic functions. In this post we will walk through taking an existing custom Aster function and installing it on the new Teradata Vantage platform. \n",
    "\n",
    "We will walk through the process with the ID customer function which gets a unique id for every row."
   ]
  },
  {
   "cell_type": "code",
   "execution_count": 1,
   "metadata": {},
   "outputs": [
    {
     "name": "stdout",
     "output_type": "stream",
     "text": [
      "Disconnected: NAME=vantage19085, USER=user8, HOST=sdt19085.labs.teradata.com\n"
     ]
    }
   ],
   "source": [
    "%lsconnect"
   ]
  },
  {
   "cell_type": "code",
   "execution_count": 2,
   "metadata": {},
   "outputs": [
    {
     "name": "stdin",
     "output_type": "stream",
     "text": [
      "Password ·····\n"
     ]
    },
    {
     "name": "stdout",
     "output_type": "stream",
     "text": [
      "Success: 'vantage19085' connection established\n"
     ]
    }
   ],
   "source": [
    "%connect vantage19085"
   ]
  },
  {
   "cell_type": "markdown",
   "metadata": {},
   "source": [
    "## Prepare the Function\n",
    "Often, the custom SLQ-MR function is a jar file saved inside of a zip file with the same name. The Teradata Analytics Platform requires that every function have a json file that explains how the function works. "
   ]
  },
  {
   "cell_type": "markdown",
   "metadata": {},
   "source": [
    "### Steps to Prepare\n",
    "1. Unzip id.zip\n",
    "2. Write id.json\n",
    "3. Zip id.jar and id.json together"
   ]
  },
  {
   "cell_type": "markdown",
   "metadata": {},
   "source": [
    "### Writing id.json\n",
    "The following fields are required:\n",
    "* function_name\n",
    "* function_type: sqlmr, driver, or graph. non-driver can also be used, and is the same a sqlmr\n",
    "* short_description: include to prevent json null error\n",
    "* long_description: include to prevent json null error"
   ]
  },
  {
   "cell_type": "code",
   "execution_count": null,
   "metadata": {},
   "outputs": [],
   "source": [
    "{\n",
    "  \"function_name\": \"id\",\n",
    "  \"function_type\": \"sqlmr\",\n",
    "  \"short_description\": \"Creates a unique id for every row\",\n",
    "  \"long_description\": \"Creates a unique id for every row\"\n",
    "}"
   ]
  },
  {
   "cell_type": "markdown",
   "metadata": {},
   "source": [
    "### JSON for Input Tables\n",
    "Some functions require one or more input tables, or use parameters that refernce a column in an input table. This is where any partitioning is explained. For non-partitioned tables use \"PartitionByAny\"."
   ]
  },
  {
   "cell_type": "code",
   "execution_count": null,
   "metadata": {},
   "outputs": [],
   "source": [
    "...\n",
    "\"input_tables\": [\n",
    "    {\n",
    "      \"requiredInputKind\": [\n",
    "        \"PartitionByKey\"\n",
    "      ],\n",
    "      \"isOrdered\": false,\n",
    "      \"partitionByOne\": false,\n",
    "      \"name\": \"input\",\n",
    "      \"alternateNames\": [],\n",
    "      \"isRequired\": true,\n",
    "      \"rDescription\": \"This table defining the input training data.\",\n",
    "      \"description\": \"This table defining the input training data.\",\n",
    "      \"datatype\": \"TABLE_ALIAS\",\n",
    "      \"allowsLists\": false\n",
    "    }\n",
    "  ],\n",
    "  ..."
   ]
  },
  {
   "cell_type": "markdown",
   "metadata": {},
   "source": [
    "### JSON for Arguements\n",
    "Some functions take one or more agruements, these can be string literals, numbers, or refernces to an input table."
   ]
  },
  {
   "cell_type": "code",
   "execution_count": null,
   "metadata": {},
   "outputs": [],
   "source": [
    "\"argument_clauses\": [\n",
    "    {\n",
    "      \"targetTable\": [\n",
    "        \"input\"\n",
    "      ],\n",
    "      \"checkDuplicate\": false,\n",
    "      \"allowedTypes\": [],\n",
    "      \"allowedTypeGroups\": [\n",
    "        \"STRING\"\n",
    "      ],\n",
    "      \"requiredLength\": 1,\n",
    "      \"matchLengthOfArgument\": \"\",\n",
    "      \"allowPadding\": true,\n",
    "      \"name\": \"text_column\",\n",
    "      \"isRequired\": true,\n",
    "      \"rDescription\": \"Specifies the name of the input table column that contains the text.\",\n",
    "      \"description\": \"Specifies the name of the input table column that contains the text.\",\n",
    "      \"datatype\": \"COLUMNS\",\n",
    "      \"allowsLists\": false\n",
    "    },\n",
    "    {\n",
    "      \"name\": \"split_by\",\n",
    "      \"isRequired\": true,\n",
    "      \"rDescription\": \"Specifies how to split paragraphs.\",\n",
    "      \"description\": \"Specifies how to split paragraphs.\",\n",
    "      \"datatype\": \"STRING\",\n",
    "      \"allowsLists\": false\n",
    "    }\n",
    "  ]"
   ]
  },
  {
   "cell_type": "markdown",
   "metadata": {},
   "source": [
    "## Permissions to Install Custom Functions\n",
    "Many permissions are necessary to install files and functions. By default these are given to the user Alice. "
   ]
  },
  {
   "cell_type": "code",
   "execution_count": null,
   "metadata": {},
   "outputs": [],
   "source": [
    "-- grant user foreign_server_ddl privileges\n",
    "GRANT SELECT ON TD_SERVER_DB.coprocessor_ddl TO user with grant option;\n",
    "\n",
    "-- grant user privileges needed to run other store procedures\n",
    "-- used by custom UDF install/uninstall stored procedure\n",
    "GRANT EXECUTE FUNCTION ON TD_SYSFNLIB.SCRIPT TO user;\n",
    "GRANT EXECUTE ON SYSUIF.DEFAULT_AUTH TO user;\n",
    "GRANT EXECUTE PROCEDURE ON SYSUIF.INSTALL_FILE TO user;\n",
    "GRANT EXECUTE PROCEDURE ON SYSUIF.REPLACE_FILE TO user;\n",
    "GRANT EXECUTE PROCEDURE ON SYSUIF.REMOVE_FILE TO user;\n",
    "\n",
    "GRANT EXECUTE PROCEDURE ON SQLJ.INSTALL_JAR TO user;\n",
    "GRANT EXECUTE PROCEDURE ON SQLJ.REPLACE_JAR TO user;\n",
    "GRANT EXECUTE PROCEDURE ON SQLJ.REMOVE_JAR TO user;\n",
    "GRANT EXECUTE PROCEDURE ON SQLJ.ALTER_JAVA_PATH TO user;\n",
    "GRANT EXECUTE PROCEDURE ON SYSLIB.EXECUTEFOREIGNSQL TO user;\n",
    " \n",
    "-- (option 1) grant user privileges to install/remove/download in user (private) schema\n",
    "GRANT EXECUTE PROCEDURE on pm.install_afunction to user;\n",
    "GRANT EXECUTE PROCEDURE on pm.remove_afunction to user;\n",
    "GRANT EXECUTE PROCEDURE on pm.install_afile to user;\n",
    "GRANT EXECUTE PROCEDURE on pm.remove_afile to user;\n",
    "GRANT EXECUTE PROCEDURE on pm.download_afile to user;\n",
    "\n",
    "-- (option 2) grant user privileges to install/remove/download in public schema (access to UDFs/Files is available to all users without additional grant privileges)\n",
    "GRANT EXECUTE PROCEDURE on pm.install_afunction_to_public to user;\n",
    "GRANT EXECUTE PROCEDURE on pm.remove_afunction_from_public to user;\n",
    "GRANT EXECUTE PROCEDURE on pm.install_afile_to_public to user;\n",
    "GRANT EXECUTE PROCEDURE on pm.remove_afile_from_public to user;\n",
    "GRANT EXECUTE PROCEDURE on pm.download_afile_from_public to user;"
   ]
  },
  {
   "cell_type": "markdown",
   "metadata": {},
   "source": [
    "## Remove id from Coprocessor and Teradata\n",
    "This is if the function has been previously installed. The order is important, you cannot uninstall the function from the Aster engine if there is no longer a Teradata reference to it."
   ]
  },
  {
   "cell_type": "code",
   "execution_count": null,
   "metadata": {},
   "outputs": [],
   "source": [
    "CALL PM.REMOVE_AFUNCTION_FROM_PUBLIC('id');"
   ]
  },
  {
   "cell_type": "code",
   "execution_count": null,
   "metadata": {},
   "outputs": [],
   "source": [
    "--Use 0 to check if the file is being used before removing it\n",
    "--Use 1 to remove the file without checking if it's being used\n",
    "CALL SYSUIF.REMOVE_FILE('id',0);"
   ]
  },
  {
   "cell_type": "markdown",
   "metadata": {},
   "source": [
    "## Install id\n",
    "We first create a reference to the file in Teradata, and then install it on the coprocessor."
   ]
  },
  {
   "cell_type": "code",
   "execution_count": null,
   "metadata": {},
   "outputs": [],
   "source": [
    "--cz: file is on my local machine and it is a zip file\n",
    "--This is jupyter labs so it don't know about my local machine :(\n",
    "--I'm going to go run this is studio\n",
    "CALL SYSUIF.INSTALL_FILE(\n",
    "    'id' \n",
    "    ,'id.zip'\n",
    "    ,'cz!C:\\Users\\mt186048\\...\\id.zip'\n",
    ");"
   ]
  },
  {
   "cell_type": "code",
   "execution_count": null,
   "metadata": {},
   "outputs": [],
   "source": [
    "CALL PM.INSTALL_AFUNCTION_TO_PUBLIC('id');"
   ]
  },
  {
   "cell_type": "code",
   "execution_count": 9,
   "metadata": {},
   "outputs": [
    {
     "data": {
      "application/vnd.teradata.resultset": "[{\"objectname\":\"adaboost_drive\",\"objecttype\":\"function\",\"owner\":\"db_superuser\"},{\"objectname\":\"adaboost_predict\",\"objecttype\":\"function\",\"owner\":\"db_superuser\"},{\"objectname\":\"addoneplayer\",\"objecttype\":\"function\",\"owner\":\"db_superuser\"},{\"objectname\":\"allpairsshortestpath\",\"objecttype\":\"function\",\"owner\":\"db_superuser\"},{\"objectname\":\"amlgenerator\",\"objecttype\":\"function\",\"owner\":\"db_superuser\"},{\"objectname\":\"antiselect\",\"objecttype\":\"function\",\"owner\":\"db_superuser\"},{\"objectname\":\"apache_log_parser\",\"objecttype\":\"function\",\"owner\":\"db_superuser\"},{\"objectname\":\"approx_dcount_combine\",\"objecttype\":\"function\",\"owner\":\"db_superuser\"},{\"objectname\":\"approx_dcount_partial\",\"objecttype\":\"function\",\"owner\":\"db_superuser\"},{\"objectname\":\"approx_percentile\",\"objecttype\":\"function\",\"owner\":\"db_superuser\"},{\"objectname\":\"approx_percentile_summary\",\"objecttype\":\"function\",\"owner\":\"db_superuser\"},{\"objectname\":\"approxdcountmap\",\"objecttype\":\"function\",\"owner\":\"db_superuser\"},{\"objectname\":\"approxdcountreduce\",\"objecttype\":\"function\",\"owner\":\"db_superuser\"},{\"objectname\":\"approxpercentilemap\",\"objecttype\":\"function\",\"owner\":\"db_superuser\"},{\"objectname\":\"approxpercentilereduce\",\"objecttype\":\"function\",\"owner\":\"db_superuser\"},{\"objectname\":\"arima\",\"objecttype\":\"function\",\"owner\":\"db_superuser\"},{\"objectname\":\"arimamap\",\"objecttype\":\"function\",\"owner\":\"db_superuser\"},{\"objectname\":\"arimapredictor\",\"objecttype\":\"function\",\"owner\":\"db_superuser\"},{\"objectname\":\"attribution\",\"objecttype\":\"function\",\"owner\":\"db_superuser\"},{\"objectname\":\"basket_generator\",\"objecttype\":\"function\",\"owner\":\"db_superuser\"},{\"objectname\":\"best_splits_by_attributes\",\"objecttype\":\"function\",\"owner\":\"db_superuser\"},{\"objectname\":\"best_splits_by_nodes\",\"objecttype\":\"function\",\"owner\":\"db_superuser\"},{\"objectname\":\"betweenness\",\"objecttype\":\"function\",\"owner\":\"db_superuser\"},{\"objectname\":\"burst\",\"objecttype\":\"function\",\"owner\":\"db_superuser\"},{\"objectname\":\"canopy\",\"objecttype\":\"function\",\"owner\":\"db_superuser\"},{\"objectname\":\"canopymap\",\"objecttype\":\"function\",\"owner\":\"db_superuser\"},{\"objectname\":\"canopymap2\",\"objecttype\":\"function\",\"owner\":\"db_superuser\"},{\"objectname\":\"canopyreduce\",\"objecttype\":\"function\",\"owner\":\"db_superuser\"},{\"objectname\":\"canopyreduce2\",\"objecttype\":\"function\",\"owner\":\"db_superuser\"},{\"objectname\":\"categorize\",\"objecttype\":\"function\",\"owner\":\"db_superuser\"},{\"objectname\":\"categoryfinder\",\"objecttype\":\"function\",\"owner\":\"db_superuser\"},{\"objectname\":\"cccardinalityextractor\",\"objecttype\":\"function\",\"owner\":\"db_superuser\"},{\"objectname\":\"ccexecutor\",\"objecttype\":\"function\",\"owner\":\"db_superuser\"},{\"objectname\":\"ccm\",\"objecttype\":\"function\",\"owner\":\"db_superuser\"},{\"objectname\":\"ccmmap\",\"objecttype\":\"function\",\"owner\":\"db_superuser\"},{\"objectname\":\"ccmprepare\",\"objecttype\":\"function\",\"owner\":\"db_superuser\"},{\"objectname\":\"ccmreduce\",\"objecttype\":\"function\",\"owner\":\"db_superuser\"},{\"objectname\":\"cfilter\",\"objecttype\":\"function\",\"owner\":\"db_superuser\"},{\"objectname\":\"cfilterviz\",\"objecttype\":\"function\",\"owner\":\"db_superuser\"},{\"objectname\":\"changepointdetection\",\"objecttype\":\"function\",\"owner\":\"db_superuser\"},{\"objectname\":\"closeness\",\"objecttype\":\"function\",\"owner\":\"db_superuser\"},{\"objectname\":\"cmavg\",\"objecttype\":\"function\",\"owner\":\"db_superuser\"},{\"objectname\":\"concatenatetrans\",\"objecttype\":\"function\",\"owner\":\"db_superuser\"},{\"objectname\":\"confusionmatrix\",\"objecttype\":\"function\",\"owner\":\"db_superuser\"},{\"objectname\":\"corr_map\",\"objecttype\":\"function\",\"owner\":\"db_superuser\"},{\"objectname\":\"corr_reduce\",\"objecttype\":\"function\",\"owner\":\"db_superuser\"},{\"objectname\":\"coxeventgroupmapper\",\"objecttype\":\"function\",\"owner\":\"db_superuser\"},{\"objectname\":\"coxeventgroupreducer\",\"objecttype\":\"function\",\"owner\":\"db_superuser\"},{\"objectname\":\"coxeventreducer\",\"objecttype\":\"function\",\"owner\":\"db_superuser\"},{\"objectname\":\"coxlinearpredictor\",\"objecttype\":\"function\",\"owner\":\"db_superuser\"},{\"objectname\":\"coxph\",\"objecttype\":\"function\",\"owner\":\"db_superuser\"},{\"objectname\":\"coxpredict\",\"objecttype\":\"function\",\"owner\":\"db_superuser\"},{\"objectname\":\"coxrisksetreducer\",\"objecttype\":\"function\",\"owner\":\"db_superuser\"},{\"objectname\":\"coxsetreducer\",\"objecttype\":\"function\",\"owner\":\"db_superuser\"},{\"objectname\":\"coxsurvbaseline\",\"objecttype\":\"function\",\"owner\":\"db_superuser\"},{\"objectname\":\"coxsurvfit\",\"objecttype\":\"function\",\"owner\":\"db_superuser\"},{\"objectname\":\"coxsurvival\",\"objecttype\":\"function\",\"owner\":\"db_superuser\"},{\"objectname\":\"crossvalidation\",\"objecttype\":\"function\",\"owner\":\"db_superuser\"},{\"objectname\":\"dataindexermapper\",\"objecttype\":\"function\",\"owner\":\"db_superuser\"},{\"objectname\":\"dataindexerreducer\",\"objecttype\":\"function\",\"owner\":\"db_superuser\"},{\"objectname\":\"datapartition\",\"objecttype\":\"function\",\"owner\":\"db_superuser\"},{\"objectname\":\"densesvmformatconverter\",\"objecttype\":\"function\",\"owner\":\"db_superuser\"},{\"objectname\":\"densesvmmodelprinter\",\"objecttype\":\"function\",\"owner\":\"db_superuser\"},{\"objectname\":\"densesvmpredictor\",\"objecttype\":\"function\",\"owner\":\"db_superuser\"},{\"objectname\":\"densesvmtrainer\",\"objecttype\":\"function\",\"owner\":\"db_superuser\"},{\"objectname\":\"distnmatchmultipleinput\",\"objecttype\":\"function\",\"owner\":\"db_superuser\"},{\"objectname\":\"distnmatchreduce\",\"objecttype\":\"function\",\"owner\":\"db_superuser\"},{\"objectname\":\"dtw\",\"objecttype\":\"function\",\"owner\":\"db_superuser\"},{\"objectname\":\"dwt\",\"objecttype\":\"function\",\"owner\":\"db_superuser\"},{\"objectname\":\"dwt2d\",\"objecttype\":\"function\",\"owner\":\"db_superuser\"},{\"objectname\":\"dwtreduce\",\"objecttype\":\"function\",\"owner\":\"db_superuser\"},{\"objectname\":\"eigenvectorcentrality\",\"objecttype\":\"function\",\"owner\":\"db_superuser\"},{\"objectname\":\"emavg\",\"objecttype\":\"function\",\"owner\":\"db_superuser\"},{\"objectname\":\"evaluatenamedentityfinderpartition\",\"objecttype\":\"function\",\"owner\":\"db_superuser\"},{\"objectname\":\"evaluatenamedentityfinderrow\",\"objecttype\":\"function\",\"owner\":\"db_superuser\"},{\"objectname\":\"evaluatesentimentextractor\",\"objecttype\":\"function\",\"owner\":\"db_superuser\"},{\"objectname\":\"extractsentiment\",\"objecttype\":\"function\",\"owner\":\"db_superuser\"},{\"objectname\":\"factorization\",\"objecttype\":\"function\",\"owner\":\"db_superuser\"},{\"objectname\":\"fellegisunterpredict\",\"objecttype\":\"function\",\"owner\":\"db_superuser\"},{\"objectname\":\"fellegisuntertrainer\",\"objecttype\":\"function\",\"owner\":\"db_superuser\"},{\"objectname\":\"fft\",\"objecttype\":\"function\",\"owner\":\"db_superuser\"},{\"objectname\":\"filtertable\",\"objecttype\":\"function\",\"owner\":\"db_superuser\"},{\"objectname\":\"findnamedentity\",\"objecttype\":\"function\",\"owner\":\"db_superuser\"},{\"objectname\":\"fixedsamplemap\",\"objecttype\":\"function\",\"owner\":\"db_superuser\"},{\"objectname\":\"fmeasure\",\"objecttype\":\"function\",\"owner\":\"db_superuser\"},{\"objectname\":\"forest_analyze\",\"objecttype\":\"function\",\"owner\":\"db_superuser\"},{\"objectname\":\"forest_builder\",\"objecttype\":\"function\",\"owner\":\"db_superuser\"},{\"objectname\":\"forest_data_distn\",\"objecttype\":\"function\",\"owner\":\"db_superuser\"},{\"objectname\":\"forest_drive\",\"objecttype\":\"function\",\"owner\":\"db_superuser\"},{\"objectname\":\"forest_oob_predict\",\"objecttype\":\"function\",\"owner\":\"db_superuser\"},{\"objectname\":\"forest_predict\",\"objecttype\":\"function\",\"owner\":\"db_superuser\"},{\"objectname\":\"fpgrowth\",\"objecttype\":\"function\",\"owner\":\"db_superuser\"},{\"objectname\":\"fpgrowthdistributetransactions\",\"objecttype\":\"function\",\"owner\":\"db_superuser\"},{\"objectname\":\"fpgrowthpatternminer\",\"objecttype\":\"function\",\"owner\":\"db_superuser\"},{\"objectname\":\"fpgrowthpatternwriter\",\"objecttype\":\"function\",\"owner\":\"db_superuser\"},{\"objectname\":\"fpgrowthproducecntb\",\"objecttype\":\"function\",\"owner\":\"db_superuser\"},{\"objectname\":\"fpgrowthrulewriter\",\"objecttype\":\"function\",\"owner\":\"db_superuser\"},{\"objectname\":\"frequentpaths\",\"objecttype\":\"function\",\"owner\":\"db_superuser\"},{\"objectname\":\"fscomputebound\",\"objecttype\":\"function\",\"owner\":\"db_superuser\"},{\"objectname\":\"fsemmapper\",\"objecttype\":\"function\",\"owner\":\"db_superuser\"},{\"objectname\":\"fsemreducer\",\"objecttype\":\"function\",\"owner\":\"db_superuser\"},{\"objectname\":\"fsnbmapper\",\"objecttype\":\"function\",\"owner\":\"db_superuser\"},{\"objectname\":\"fsnbreducer\",\"objecttype\":\"function\",\"owner\":\"db_superuser\"},{\"objectname\":\"fsvectormapper\",\"objecttype\":\"function\",\"owner\":\"db_superuser\"},{\"objectname\":\"fsvectorreducer\",\"objecttype\":\"function\",\"owner\":\"db_superuser\"},{\"objectname\":\"fsvectorweight\",\"objecttype\":\"function\",\"owner\":\"db_superuser\"},{\"objectname\":\"generatecombination\",\"objecttype\":\"function\",\"owner\":\"db_superuser\"},{\"objectname\":\"geometryoverlay\",\"objecttype\":\"function\",\"owner\":\"db_superuser\"},{\"objectname\":\"glm\",\"objecttype\":\"function\",\"owner\":\"db_superuser\"},{\"objectname\":\"glm2\",\"objecttype\":\"function\",\"owner\":\"db_superuser\"},{\"objectname\":\"glm2initialize\",\"objecttype\":\"function\",\"owner\":\"db_superuser\"},{\"objectname\":\"glm2map\",\"objecttype\":\"function\",\"owner\":\"db_superuser\"},{\"objectname\":\"glm2predict\",\"objecttype\":\"function\",\"owner\":\"db_superuser\"},{\"objectname\":\"glm2preprocessing\",\"objecttype\":\"function\",\"owner\":\"db_superuser\"},{\"objectname\":\"glm2reduce\",\"objecttype\":\"function\",\"owner\":\"db_superuser\"},{\"objectname\":\"glm_map\",\"objecttype\":\"function\",\"owner\":\"db_superuser\"},{\"objectname\":\"glm_reduceasymptoticstats\",\"objecttype\":\"function\",\"owner\":\"db_superuser\"},{\"objectname\":\"glm_reducebymatrixindex\",\"objecttype\":\"function\",\"owner\":\"db_superuser\"},{\"objectname\":\"glm_reducesolveandupdate\",\"objecttype\":\"function\",\"owner\":\"db_superuser\"},{\"objectname\":\"glm_score\",\"objecttype\":\"function\",\"owner\":\"db_superuser\"},{\"objectname\":\"glmaicmap\",\"objecttype\":\"function\",\"owner\":\"db_superuser\"},{\"objectname\":\"glmaicreduce\",\"objecttype\":\"function\",\"owner\":\"db_superuser\"},{\"objectname\":\"glmgammadispersion\",\"objecttype\":\"function\",\"owner\":\"db_superuser\"},{\"objectname\":\"glml1l2\",\"objecttype\":\"function\",\"owner\":\"db_superuser\"},{\"objectname\":\"glml1l2predict\",\"objecttype\":\"function\",\"owner\":\"db_superuser\"},{\"objectname\":\"glmloglikelihoodmapper\",\"objecttype\":\"function\",\"owner\":\"db_superuser\"},{\"objectname\":\"glmnbtheta\",\"objecttype\":\"function\",\"owner\":\"db_superuser\"},{\"objectname\":\"glmoptimizationmapper\",\"objecttype\":\"function\",\"owner\":\"db_superuser\"},{\"objectname\":\"glmpredict\",\"objecttype\":\"function\",\"owner\":\"db_superuser\"},{\"objectname\":\"gmmfit\",\"objecttype\":\"function\",\"owner\":\"db_superuser\"},{\"objectname\":\"gmmmap\",\"objecttype\":\"function\",\"owner\":\"db_superuser\"},{\"objectname\":\"gmmpredict\",\"objecttype\":\"function\",\"owner\":\"db_superuser\"},{\"objectname\":\"gmmprofile\",\"objecttype\":\"function\",\"owner\":\"db_superuser\"},{\"objectname\":\"gtree\",\"objecttype\":\"function\",\"owner\":\"db_superuser\"},{\"objectname\":\"hashbits\",\"objecttype\":\"function\",\"owner\":\"db_superuser\"},{\"objectname\":\"hist_map\",\"objecttype\":\"function\",\"owner\":\"db_superuser\"},{\"objectname\":\"hist_prep\",\"objecttype\":\"function\",\"owner\":\"db_superuser\"},{\"objectname\":\"hist_reduce\",\"objecttype\":\"function\",\"owner\":\"db_superuser\"},{\"objectname\":\"histogram\",\"objecttype\":\"function\",\"owner\":\"db_superuser\"},{\"objectname\":\"histogram_map\",\"objecttype\":\"function\",\"owner\":\"db_superuser\"},{\"objectname\":\"histogram_reduce\",\"objecttype\":\"function\",\"owner\":\"db_superuser\"},{\"objectname\":\"hmmdecoder\",\"objecttype\":\"function\",\"owner\":\"db_superuser\"},{\"objectname\":\"hmmevaluator\",\"objecttype\":\"function\",\"owner\":\"db_superuser\"},{\"objectname\":\"hmmsupervisedlearner\",\"objecttype\":\"function\",\"owner\":\"db_superuser\"},{\"objectname\":\"hmmunsupervisedlearner\",\"objecttype\":\"function\",\"owner\":\"db_superuser\"},{\"objectname\":\"identitymatch\",\"objecttype\":\"function\",\"owner\":\"db_superuser\"},{\"objectname\":\"idwt\",\"objecttype\":\"function\",\"owner\":\"db_superuser\"},{\"objectname\":\"idwt2d\",\"objecttype\":\"function\",\"owner\":\"db_superuser\"},{\"objectname\":\"idwtreduce\",\"objecttype\":\"function\",\"owner\":\"db_superuser\"},{\"objectname\":\"ifft\",\"objecttype\":\"function\",\"owner\":\"db_superuser\"},{\"objectname\":\"interpolator\",\"objecttype\":\"function\",\"owner\":\"db_superuser\"},{\"objectname\":\"ipgeo\",\"objecttype\":\"function\",\"owner\":\"db_superuser\"},{\"objectname\":\"jsonparser\",\"objecttype\":\"function\",\"owner\":\"db_superuser\"},{\"objectname\":\"kmeans\",\"objecttype\":\"function\",\"owner\":\"db_superuser\"},{\"objectname\":\"kmeansmap\",\"objecttype\":\"function\",\"owner\":\"db_superuser\"},{\"objectname\":\"kmeansparparmap\",\"objecttype\":\"function\",\"owner\":\"db_superuser\"},{\"objectname\":\"kmeansplot\",\"objecttype\":\"function\",\"owner\":\"db_superuser\"},{\"objectname\":\"kmeansplusplusmap\",\"objecttype\":\"function\",\"owner\":\"db_superuser\"},{\"objectname\":\"kmeansplusplusreduce\",\"objecttype\":\"function\",\"owner\":\"db_superuser\"},{\"objectname\":\"kmeansreduce\",\"objecttype\":\"function\",\"owner\":\"db_superuser\"},{\"objectname\":\"kmodes\",\"objecttype\":\"function\",\"owner\":\"db_superuser\"},{\"objectname\":\"kmodesmap\",\"objecttype\":\"function\",\"owner\":\"db_superuser\"},{\"objectname\":\"kmodespredict\",\"objecttype\":\"function\",\"owner\":\"db_superuser\"},{\"objectname\":\"kmodesreduce\",\"objecttype\":\"function\",\"owner\":\"db_superuser\"},{\"objectname\":\"kmodesseedtable\",\"objecttype\":\"function\",\"owner\":\"db_superuser\"},{\"objectname\":\"knn\",\"objecttype\":\"function\",\"owner\":\"db_superuser\"},{\"objectname\":\"knninmemory\",\"objecttype\":\"function\",\"owner\":\"db_superuser\"},{\"objectname\":\"knnmapper\",\"objecttype\":\"function\",\"owner\":\"db_superuser\"},{\"objectname\":\"knnrecommenderglobalgd\",\"objecttype\":\"function\",\"owner\":\"db_superuser\"},{\"objectname\":\"knnrecommenderlocalgd\",\"objecttype\":\"function\",\"owner\":\"db_superuser\"},{\"objectname\":\"knnrecommendermodelinitializer\",\"objecttype\":\"function\",\"owner\":\"db_superuser\"},{\"objectname\":\"knnrecommendermodelprinter\",\"objecttype\":\"function\",\"owner\":\"db_superuser\"},{\"objectname\":\"knnrecommenderpredict\",\"objecttype\":\"function\",\"owner\":\"db_superuser\"},{\"objectname\":\"knnrecommendertrain\",\"objecttype\":\"function\",\"owner\":\"db_superuser\"},{\"objectname\":\"knnreducer\",\"objecttype\":\"function\",\"owner\":\"db_superuser\"},{\"objectname\":\"lars\",\"objecttype\":\"function\",\"owner\":\"db_superuser\"},{\"objectname\":\"larscombine\",\"objecttype\":\"function\",\"owner\":\"db_superuser\"},{\"objectname\":\"larsmap\",\"objecttype\":\"function\",\"owner\":\"db_superuser\"},{\"objectname\":\"larspredict\",\"objecttype\":\"function\",\"owner\":\"db_superuser\"},{\"objectname\":\"larsreduce\",\"objecttype\":\"function\",\"owner\":\"db_superuser\"},{\"objectname\":\"ldaformatconverter\",\"objecttype\":\"function\",\"owner\":\"db_superuser\"},{\"objectname\":\"ldaidgenerator\",\"objecttype\":\"function\",\"owner\":\"db_superuser\"},{\"objectname\":\"ldainference\",\"objecttype\":\"function\",\"owner\":\"db_superuser\"},{\"objectname\":\"ldamodelcombiner\",\"objecttype\":\"function\",\"owner\":\"db_superuser\"},{\"objectname\":\"ldamodelinitializer\",\"objecttype\":\"function\",\"owner\":\"db_superuser\"},{\"objectname\":\"ldatopicprinter\",\"objecttype\":\"function\",\"owner\":\"db_superuser\"},{\"objectname\":\"ldatrainer\",\"objecttype\":\"function\",\"owner\":\"db_superuser\"},{\"objectname\":\"ldawordtowordid\",\"objecttype\":\"function\",\"owner\":\"db_superuser\"},{\"objectname\":\"ldist\",\"objecttype\":\"function\",\"owner\":\"db_superuser\"},{\"objectname\":\"linreg\",\"objecttype\":\"function\",\"owner\":\"db_superuser\"},{\"objectname\":\"linregmatrix\",\"objecttype\":\"function\",\"owner\":\"db_superuser\"},{\"objectname\":\"linregpredict\",\"objecttype\":\"function\",\"owner\":\"db_superuser\"},{\"objectname\":\"localclusteringcoefficient\",\"objecttype\":\"function\",\"owner\":\"db_superuser\"},{\"objectname\":\"loopybeliefpropagation\",\"objecttype\":\"function\",\"owner\":\"db_superuser\"},{\"objectname\":\"lrtest\",\"objecttype\":\"function\",\"owner\":\"db_superuser\"},{\"objectname\":\"minhash\",\"objecttype\":\"function\",\"owner\":\"db_superuser\"},{\"objectname\":\"minhashclean\",\"objecttype\":\"function\",\"owner\":\"db_superuser\"},{\"objectname\":\"minhashmap\",\"objecttype\":\"function\",\"owner\":\"db_superuser\"},{\"objectname\":\"minhashreduce\",\"objecttype\":\"function\",\"owner\":\"db_superuser\"},{\"objectname\":\"minikmodes\",\"objecttype\":\"function\",\"owner\":\"db_superuser\"},{\"objectname\":\"modularity\",\"objecttype\":\"function\",\"owner\":\"db_superuser\"},{\"objectname\":\"multi_case\",\"objecttype\":\"function\",\"owner\":\"db_superuser\"},{\"objectname\":\"murmurhash\",\"objecttype\":\"function\",\"owner\":\"db_superuser\"},{\"objectname\":\"naivebayesmap\",\"objecttype\":\"function\",\"owner\":\"db_superuser\"},{\"objectname\":\"naivebayespredict\",\"objecttype\":\"function\",\"owner\":\"db_superuser\"},{\"objectname\":\"naivebayesreduce\",\"objecttype\":\"function\",\"owner\":\"db_superuser\"},{\"objectname\":\"naivebayestext\",\"objecttype\":\"function\",\"owner\":\"db_superuser\"},{\"objectname\":\"naivebayestextclassifierinternal\",\"objecttype\":\"function\",\"owner\":\"db_superuser\"},{\"objectname\":\"naivebayestextclassifierpredict\",\"objecttype\":\"function\",\"owner\":\"db_superuser\"},{\"objectname\":\"naivebayestextclassifiertrainer\",\"objecttype\":\"function\",\"owner\":\"db_superuser\"},{\"objectname\":\"naivebayestextpredict\",\"objecttype\":\"function\",\"owner\":\"db_superuser\"},{\"objectname\":\"ner\",\"objecttype\":\"function\",\"owner\":\"db_superuser\"},{\"objectname\":\"nerevaluator\",\"objecttype\":\"function\",\"owner\":\"db_superuser\"},{\"objectname\":\"nertrainer\",\"objecttype\":\"function\",\"owner\":\"db_superuser\"},{\"objectname\":\"neuralnet\",\"objecttype\":\"function\",\"owner\":\"db_superuser\"},{\"objectname\":\"neuralnetmap\",\"objecttype\":\"function\",\"owner\":\"db_superuser\"},{\"objectname\":\"neuralnetpredict\",\"objecttype\":\"function\",\"owner\":\"db_superuser\"},{\"objectname\":\"neuralnetreduce\",\"objecttype\":\"function\",\"owner\":\"db_superuser\"},{\"objectname\":\"ngram\",\"objecttype\":\"function\",\"owner\":\"db_superuser\"},{\"objectname\":\"npathviz\",\"objecttype\":\"function\",\"owner\":\"db_superuser\"},{\"objectname\":\"outlierfilter\",\"objecttype\":\"function\",\"owner\":\"db_superuser\"},{\"objectname\":\"outlierfilterpreprocessing\",\"objecttype\":\"function\",\"owner\":\"db_superuser\"},{\"objectname\":\"pack\",\"objecttype\":\"function\",\"owner\":\"db_superuser\"},{\"objectname\":\"pagerank\",\"objecttype\":\"function\",\"owner\":\"db_superuser\"},{\"objectname\":\"partition_data\",\"objecttype\":\"function\",\"owner\":\"db_superuser\"},{\"objectname\":\"partitionscale\",\"objecttype\":\"function\",\"owner\":\"db_superuser\"},{\"objectname\":\"path_analyzer\",\"objecttype\":\"function\",\"owner\":\"db_superuser\"},{\"objectname\":\"path_generator\",\"objecttype\":\"function\",\"owner\":\"db_superuser\"},{\"objectname\":\"path_start\",\"objecttype\":\"function\",\"owner\":\"db_superuser\"},{\"objectname\":\"path_summarizer\",\"objecttype\":\"function\",\"owner\":\"db_superuser\"},{\"objectname\":\"pca_map\",\"objecttype\":\"function\",\"owner\":\"db_superuser\"},{\"objectname\":\"pca_reduce\",\"objecttype\":\"function\",\"owner\":\"db_superuser\"},{\"objectname\":\"pcaplot\",\"objecttype\":\"function\",\"owner\":\"db_superuser\"},{\"objectname\":\"percentile\",\"objecttype\":\"function\",\"owner\":\"db_superuser\"},{\"objectname\":\"pivot\",\"objecttype\":\"function\",\"owner\":\"db_superuser\"},{\"objectname\":\"pointinpolygon\",\"objecttype\":\"function\",\"owner\":\"db_superuser\"},{\"objectname\":\"postagger\",\"objecttype\":\"function\",\"owner\":\"db_superuser\"},{\"objectname\":\"prefixspanmap\",\"objecttype\":\"function\",\"owner\":\"db_superuser\"},{\"objectname\":\"psalsa\",\"objecttype\":\"function\",\"owner\":\"db_superuser\"},{\"objectname\":\"randomsample\",\"objecttype\":\"function\",\"owner\":\"db_superuser\"},{\"objectname\":\"randomwalksample\",\"objecttype\":\"function\",\"owner\":\"db_superuser\"},{\"objectname\":\"roc\",\"objecttype\":\"function\",\"owner\":\"db_superuser\"},{\"objectname\":\"roccalculator\",\"objecttype\":\"function\",\"owner\":\"db_superuser\"},{\"objectname\":\"rtchangepointdetection\",\"objecttype\":\"function\",\"owner\":\"db_superuser\"},{\"objectname\":\"sampling\",\"objecttype\":\"function\",\"owner\":\"db_superuser\"},{\"objectname\":\"sax\",\"objecttype\":\"function\",\"owner\":\"db_superuser\"},{\"objectname\":\"sax2\",\"objecttype\":\"function\",\"owner\":\"db_superuser\"},{\"objectname\":\"scale\",\"objecttype\":\"function\",\"owner\":\"db_superuser\"},{\"objectname\":\"scalemap\",\"objecttype\":\"function\",\"owner\":\"db_superuser\"},{\"objectname\":\"scaleprinter\",\"objecttype\":\"function\",\"owner\":\"db_superuser\"},{\"objectname\":\"sentenizer\",\"objecttype\":\"function\",\"owner\":\"db_superuser\"},{\"objectname\":\"seqcompress\",\"objecttype\":\"function\",\"owner\":\"db_superuser\"},{\"objectname\":\"seqdesymbolizeforpattern\",\"objecttype\":\"function\",\"owner\":\"db_superuser\"},{\"objectname\":\"seqitemgenmap\",\"objecttype\":\"function\",\"owner\":\"db_superuser\"},{\"objectname\":\"seqmatchingmap\",\"objecttype\":\"function\",\"owner\":\"db_superuser\"},{\"objectname\":\"seqsymbolization\",\"objecttype\":\"function\",\"owner\":\"db_superuser\"},{\"objectname\":\"seqsymbolizemap\",\"objecttype\":\"function\",\"owner\":\"db_superuser\"},{\"objectname\":\"seriessplitter\",\"objecttype\":\"function\",\"owner\":\"db_superuser\"},{\"objectname\":\"sessionize\",\"objecttype\":\"function\",\"owner\":\"db_superuser\"},{\"objectname\":\"shapeletcandidatefinder2\",\"objecttype\":\"function\",\"owner\":\"db_superuser\"},{\"objectname\":\"shapeletcandidatescoring2\",\"objecttype\":\"function\",\"owner\":\"db_superuser\"},{\"objectname\":\"shapeletclassifier\",\"objecttype\":\"function\",\"owner\":\"db_superuser\"},{\"objectname\":\"shapeletcollisioncounter2\",\"objecttype\":\"function\",\"owner\":\"db_superuser\"},{\"objectname\":\"shapeletfinder\",\"objecttype\":\"function\",\"owner\":\"db_superuser\"},{\"objectname\":\"shapeletmasker\",\"objecttype\":\"function\",\"owner\":\"db_superuser\"},{\"objectname\":\"shapeletmasker2\",\"objecttype\":\"function\",\"owner\":\"db_superuser\"},{\"objectname\":\"shapeletpowerfinder2\",\"objecttype\":\"function\",\"owner\":\"db_superuser\"},{\"objectname\":\"shapeletstrengthfinder\",\"objecttype\":\"function\",\"owner\":\"db_superuser\"},{\"objectname\":\"single_tree_drive\",\"objecttype\":\"function\",\"owner\":\"db_superuser\"},{\"objectname\":\"single_tree_predict\",\"objecttype\":\"function\",\"owner\":\"db_superuser\"},{\"objectname\":\"smavg\",\"objecttype\":\"function\",\"owner\":\"db_superuser\"},{\"objectname\":\"sortcombination\",\"objecttype\":\"function\",\"owner\":\"db_superuser\"},{\"objectname\":\"sparsesvmformatconverter\",\"objecttype\":\"function\",\"owner\":\"db_superuser\"},{\"objectname\":\"sparsesvmpredictor\",\"objecttype\":\"function\",\"owner\":\"db_superuser\"},{\"objectname\":\"sparsesvmtrainer\",\"objecttype\":\"function\",\"owner\":\"db_superuser\"},{\"objectname\":\"sssp_map\",\"objecttype\":\"function\",\"owner\":\"db_superuser\"},{\"objectname\":\"sssp_prepare\",\"objecttype\":\"function\",\"owner\":\"db_superuser\"},{\"objectname\":\"sssp_reduce\",\"objecttype\":\"function\",\"owner\":\"db_superuser\"},{\"objectname\":\"stringsimilarity\",\"objecttype\":\"function\",\"owner\":\"db_superuser\"},{\"objectname\":\"supervisedshapeletclassifier\",\"objecttype\":\"function\",\"owner\":\"db_superuser\"},{\"objectname\":\"supervisedshapelettrainer\",\"objecttype\":\"function\",\"owner\":\"db_superuser\"},{\"objectname\":\"supportcountingmap\",\"objecttype\":\"function\",\"owner\":\"db_superuser\"},{\"objectname\":\"supportcountingreduce\",\"objecttype\":\"function\",\"owner\":\"db_superuser\"},{\"objectname\":\"svm\",\"objecttype\":\"function\",\"owner\":\"db_superuser\"},{\"objectname\":\"svm_predict\",\"objecttype\":\"function\",\"owner\":\"db_superuser\"},{\"objectname\":\"svmattributecombiner\",\"objecttype\":\"function\",\"owner\":\"db_superuser\"},{\"objectname\":\"svmidgenerator\",\"objecttype\":\"function\",\"owner\":\"db_superuser\"},{\"objectname\":\"svmmodelconverter\",\"objecttype\":\"function\",\"owner\":\"db_superuser\"},{\"objectname\":\"svmmodelprinter\",\"objecttype\":\"function\",\"owner\":\"db_superuser\"},{\"objectname\":\"svmpegasos\",\"objecttype\":\"function\",\"owner\":\"db_superuser\"},{\"objectname\":\"text_parser\",\"objecttype\":\"function\",\"owner\":\"db_superuser\"},{\"objectname\":\"textchunker\",\"objecttype\":\"function\",\"owner\":\"db_superuser\"},{\"objectname\":\"textclassifier\",\"objecttype\":\"function\",\"owner\":\"db_superuser\"},{\"objectname\":\"textclassifierevaluator\",\"objecttype\":\"function\",\"owner\":\"db_superuser\"},{\"objectname\":\"textclassifiertrainer\",\"objecttype\":\"function\",\"owner\":\"db_superuser\"},{\"objectname\":\"textmorph\",\"objecttype\":\"function\",\"owner\":\"db_superuser\"},{\"objectname\":\"texttagging\",\"objecttype\":\"function\",\"owner\":\"db_superuser\"},{\"objectname\":\"texttokenizer\",\"objecttype\":\"function\",\"owner\":\"db_superuser\"},{\"objectname\":\"tf\",\"objecttype\":\"function\",\"owner\":\"db_superuser\"},{\"objectname\":\"tf_idf\",\"objecttype\":\"function\",\"owner\":\"db_superuser\"},{\"objectname\":\"timeseriesorders\",\"objecttype\":\"function\",\"owner\":\"db_superuser\"},{\"objectname\":\"tokenize\",\"objecttype\":\"function\",\"owner\":\"db_superuser\"},{\"objectname\":\"trainnamedentityfinder\",\"objecttype\":\"function\",\"owner\":\"db_superuser\"},{\"objectname\":\"trainsentimentextractor\",\"objecttype\":\"function\",\"owner\":\"db_superuser\"},{\"objectname\":\"tree_size_estimator\",\"objecttype\":\"function\",\"owner\":\"db_superuser\"},{\"objectname\":\"univariatestatistics\",\"objecttype\":\"function\",\"owner\":\"db_superuser\"},{\"objectname\":\"univariatestatistics_pivot\",\"objecttype\":\"function\",\"owner\":\"db_superuser\"},{\"objectname\":\"univariatestatistics_reduce\",\"objecttype\":\"function\",\"owner\":\"db_superuser\"},{\"objectname\":\"univariatestatistics_unpivot\",\"objecttype\":\"function\",\"owner\":\"db_superuser\"},{\"objectname\":\"unpack\",\"objecttype\":\"function\",\"owner\":\"db_superuser\"},{\"objectname\":\"unpivot\",\"objecttype\":\"function\",\"owner\":\"db_superuser\"},{\"objectname\":\"unsupervisedshapelet\",\"objecttype\":\"function\",\"owner\":\"db_superuser\"},{\"objectname\":\"uripack\",\"objecttype\":\"function\",\"owner\":\"db_superuser\"},{\"objectname\":\"uriunpack\",\"objecttype\":\"function\",\"owner\":\"db_superuser\"},{\"objectname\":\"ushapeletfinderbyscore\",\"objecttype\":\"function\",\"owner\":\"db_superuser\"},{\"objectname\":\"ushapeletintimeseries\",\"objecttype\":\"function\",\"owner\":\"db_superuser\"},{\"objectname\":\"ushapeletmasker\",\"objecttype\":\"function\",\"owner\":\"db_superuser\"},{\"objectname\":\"ushapelettsdistance\",\"objecttype\":\"function\",\"owner\":\"db_superuser\"},{\"objectname\":\"varmax\",\"objecttype\":\"function\",\"owner\":\"db_superuser\"},{\"objectname\":\"vectordistance\",\"objecttype\":\"function\",\"owner\":\"db_superuser\"},{\"objectname\":\"vwap\",\"objecttype\":\"function\",\"owner\":\"db_superuser\"},{\"objectname\":\"weightpoints\",\"objecttype\":\"function\",\"owner\":\"db_superuser\"},{\"objectname\":\"wmavg\",\"objecttype\":\"function\",\"owner\":\"db_superuser\"},{\"objectname\":\"wsrecommender\",\"objecttype\":\"function\",\"owner\":\"db_superuser\"},{\"objectname\":\"wsrecommenderreduce\",\"objecttype\":\"function\",\"owner\":\"db_superuser\"},{\"objectname\":\"xgboost_drive\",\"objecttype\":\"function\",\"owner\":\"db_superuser\"},{\"objectname\":\"xgboost_internal\",\"objecttype\":\"function\",\"owner\":\"db_superuser\"},{\"objectname\":\"xgboost_predict\",\"objecttype\":\"function\",\"owner\":\"db_superuser\"},{\"objectname\":\"xmlparser\",\"objecttype\":\"function\",\"owner\":\"db_superuser\"},{\"objectname\":\"xmlrelation\",\"objecttype\":\"function\",\"owner\":\"db_superuser\"}]\n"
     },
     "execution_count": 9,
     "metadata": {
      "application/vnd.teradata.resultset": "{\"resultSetID\":\"/home/jovyan/JupyterLabRoot/MTanco/Teradata/Resultsets/2018.10.24_21.26.11.240_UTC\",\"historyID\":36,\"chunkID\":\"00001\",\"sessionid\":\"sxQztGG33rB8ekgLhQ2Up3MY_dtvQPUax7BfyS67q6o=\",\"portnum\":\"40761\",\"dockermode\":\"docker\",\"totalRowCount\":330,\"rowLimit\":0,\"columnMetadata\":[{\"columnName\":\"objectname\",\"columnTypeName\":\"VARCHAR\",\"length\":63,\"scale\":63},{\"columnNumber\":1,\"columnName\":\"objecttype\",\"columnTypeName\":\"VARCHAR\",\"length\":14,\"scale\":14},{\"columnNumber\":2,\"columnName\":\"owner\",\"columnTypeName\":\"VARCHAR\",\"length\":63,\"scale\":63}]}"
     },
     "output_type": "execute_result"
    }
   ],
   "source": [
    "--confirm funciton exists \n",
    "HELP FOREIGN SCHEMA \"public\"@coprocessor"
   ]
  }
 ],
 "metadata": {
  "kernelspec": {
   "display_name": "Teradata SQL",
   "language": "Teradata SQL",
   "name": "teradatasql"
  },
  "language_info": {
   "codemirror_mode": "Teradata SQL",
   "file_extension": ".tdrs",
   "mimetype": "application/vnd.teradata.resultset",
   "name": "Teradata SQL",
   "nbconvert_exporter": "",
   "pygments_lexer": "",
   "version": "16.20"
  }
 },
 "nbformat": 4,
 "nbformat_minor": 2
}
