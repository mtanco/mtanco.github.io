{
 "cells": [
  {
   "cell_type": "markdown",
   "metadata": {},
   "source": [
    "# Database Hierarchy\n",
    "\n",
    "Outdated tools like SQL Assistant and Teradata Administrator made it easier to know the hierarchical location of a given database. In Teradata Studio, it is harder to find a database if you know it's owner(s). This is an issue for loading data with Smart Loader which requires navigating to the database which will store the new tables.\n",
    "\n",
    "Using the DBC views, we will get the database location paths of all databases."
   ]
  },
  {
   "cell_type": "markdown",
   "metadata": {},
   "source": [
    "## Connect to Teradata"
   ]
  },
  {
   "cell_type": "code",
   "execution_count": 4,
   "metadata": {},
   "outputs": [
    {
     "name": "stdin",
     "output_type": "stream",
     "text": [
      "Password ·····\n"
     ]
    },
    {
     "name": "stdout",
     "output_type": "stream",
     "text": [
      "Success: 'vantage19085' connection established\n"
     ]
    }
   ],
   "source": [
    "%connect vantage19085"
   ]
  },
  {
   "cell_type": "markdown",
   "metadata": {},
   "source": [
    "## Using DBC.DatabasesV\n",
    "\n",
    "The DBC views store important information about various objects in a Vantage system. Using DBC.DatabasesV, we can find the owner of a database. We can then look at the owner of _that_ database continuously. The root would be a database that is it's own owner, for example, DBC.\n"
   ]
  },
  {
   "cell_type": "code",
   "execution_count": 5,
   "metadata": {},
   "outputs": [
    {
     "data": {
      "application/vnd.teradata.resultset": "[{\"AccessCount\":\"\",\"AccountName\":\"DBC\",\"CommentString\":\"\",\"CreateTimeStamp\":\"2018-09-28 01:33:00\",\"CreatorName\":\"DBC\",\"DBKind\":\"U \",\"DatabaseName\":\"PUBLIC\",\"DefaultMapName\":\"\",\"JournalFlag\":\"NN  \",\"LastAccessTimeStamp\":\"\",\"LastAlterName\":\"DBC\",\"LastAlterTimeStamp\":\"2018-09-28 01:33:00\",\"MapOverride\":\"N\",\"OwnerName\":\"DBC\",\"PermSpace\":\"0\",\"ProtectionType\":\"N \",\"SpoolSpace\":\"285561832072\",\"TempSpace\":\"285561832072\"},{\"AccessCount\":\"\",\"AccountName\":\"DBC\",\"CommentString\":\"\",\"CreateTimeStamp\":\"2018-09-28 10:27:35\",\"CreatorName\":\"DBC\",\"DBKind\":\"U \",\"DatabaseName\":\"USER10\",\"DefaultMapName\":\"\",\"JournalFlag\":\"NN  \",\"LastAccessTimeStamp\":\"\",\"LastAlterName\":\"DBC\",\"LastAlterTimeStamp\":\"2018-09-28 10:27:35\",\"MapOverride\":\"N\",\"OwnerName\":\"DBC\",\"PermSpace\":\"1073741824\",\"ProtectionType\":\"F \",\"SpoolSpace\":\"10737418240\",\"TempSpace\":\"285561832072\"},{\"AccessCount\":\"\",\"AccountName\":\"DBC\",\"CommentString\":\"\",\"CreateTimeStamp\":\"2018-09-28 10:27:17\",\"CreatorName\":\"DBC\",\"DBKind\":\"U \",\"DatabaseName\":\"SOMBI\",\"DefaultMapName\":\"\",\"JournalFlag\":\"NN  \",\"LastAccessTimeStamp\":\"\",\"LastAlterName\":\"DBC\",\"LastAlterTimeStamp\":\"2018-09-28 10:27:17\",\"MapOverride\":\"N\",\"OwnerName\":\"DBC\",\"PermSpace\":\"1073741824\",\"ProtectionType\":\"F \",\"SpoolSpace\":\"10737418240\",\"TempSpace\":\"285561832072\"},{\"AccessCount\":\"\",\"AccountName\":\"DBC\",\"CommentString\":\"\",\"CreateTimeStamp\":\"2018-09-28 01:40:56\",\"CreatorName\":\"DBC\",\"DBKind\":\"D \",\"DatabaseName\":\"TD_SERVER_DB\",\"DefaultMapName\":\"\",\"JournalFlag\":\"NN  \",\"LastAccessTimeStamp\":\"\",\"LastAlterName\":\"DBC\",\"LastAlterTimeStamp\":\"2018-09-28 01:40:57\",\"MapOverride\":\"N\",\"OwnerName\":\"DBC\",\"PermSpace\":\"4096000000\",\"ProtectionType\":\"F \",\"SpoolSpace\":\"285561832072\",\"TempSpace\":\"285561832072\"},{\"AccessCount\":\"\",\"AccountName\":\"DBC\",\"CommentString\":\"\",\"CreateTimeStamp\":\"2018-09-28 10:27:21\",\"CreatorName\":\"DBC\",\"DBKind\":\"U \",\"DatabaseName\":\"USER2\",\"DefaultMapName\":\"\",\"JournalFlag\":\"NN  \",\"LastAccessTimeStamp\":\"\",\"LastAlterName\":\"DBC\",\"LastAlterTimeStamp\":\"2018-09-28 10:27:21\",\"MapOverride\":\"N\",\"OwnerName\":\"DBC\",\"PermSpace\":\"1073741824\",\"ProtectionType\":\"F \",\"SpoolSpace\":\"10737418240\",\"TempSpace\":\"285561832072\"},{\"AccessCount\":\"\",\"AccountName\":\"DBC\",\"CommentString\":\"\",\"CreateTimeStamp\":\"2018-09-28 10:27:23\",\"CreatorName\":\"DBC\",\"DBKind\":\"U \",\"DatabaseName\":\"USER3\",\"DefaultMapName\":\"\",\"JournalFlag\":\"NN  \",\"LastAccessTimeStamp\":\"\",\"LastAlterName\":\"DBC\",\"LastAlterTimeStamp\":\"2018-09-28 10:27:23\",\"MapOverride\":\"N\",\"OwnerName\":\"DBC\",\"PermSpace\":\"1073741824\",\"ProtectionType\":\"F \",\"SpoolSpace\":\"10737418240\",\"TempSpace\":\"285561832072\"},{\"AccessCount\":\"\",\"AccountName\":\"DBC\",\"CommentString\":\"\",\"CreateTimeStamp\":\"2018-09-28 10:27:31\",\"CreatorName\":\"DBC\",\"DBKind\":\"U \",\"DatabaseName\":\"USER8\",\"DefaultMapName\":\"\",\"JournalFlag\":\"NN  \",\"LastAccessTimeStamp\":\"\",\"LastAlterName\":\"DBC\",\"LastAlterTimeStamp\":\"2018-09-28 10:27:31\",\"MapOverride\":\"N\",\"OwnerName\":\"DBC\",\"PermSpace\":\"1073741824\",\"ProtectionType\":\"F \",\"SpoolSpace\":\"10737418240\",\"TempSpace\":\"285561832072\"},{\"AccessCount\":\"\",\"AccountName\":\"DBC\",\"CommentString\":\"\",\"CreateTimeStamp\":\"2018-09-28 01:58:14\",\"CreatorName\":\"DBC\",\"DBKind\":\"D \",\"DatabaseName\":\"dbcmngr\",\"DefaultMapName\":\"\",\"JournalFlag\":\"NN  \",\"LastAccessTimeStamp\":\"\",\"LastAlterName\":\"DBC\",\"LastAlterTimeStamp\":\"2018-09-28 01:58:14\",\"MapOverride\":\"N\",\"OwnerName\":\"DBC\",\"PermSpace\":\"100000000\",\"ProtectionType\":\"F \",\"SpoolSpace\":\"285561832072\",\"TempSpace\":\"285561832072\"},{\"AccessCount\":\"\",\"AccountName\":\"DBC\",\"CommentString\":\"\",\"CreateTimeStamp\":\"2018-09-28 01:33:00\",\"CreatorName\":\"DBC\",\"DBKind\":\"U \",\"DatabaseName\":\"All\",\"DefaultMapName\":\"\",\"JournalFlag\":\"NN  \",\"LastAccessTimeStamp\":\"\",\"LastAlterName\":\"DBC\",\"LastAlterTimeStamp\":\"2018-09-28 01:33:00\",\"MapOverride\":\"N\",\"OwnerName\":\"DBC\",\"PermSpace\":\"0\",\"ProtectionType\":\"N \",\"SpoolSpace\":\"285561832072\",\"TempSpace\":\"285561832072\"},{\"AccessCount\":\"\",\"AccountName\":\"DBC\",\"CommentString\":\"\",\"CreateTimeStamp\":\"2018-09-28 10:27:30\",\"CreatorName\":\"DBC\",\"DBKind\":\"U \",\"DatabaseName\":\"USER7\",\"DefaultMapName\":\"\",\"JournalFlag\":\"NN  \",\"LastAccessTimeStamp\":\"\",\"LastAlterName\":\"DBC\",\"LastAlterTimeStamp\":\"2018-09-28 10:27:30\",\"MapOverride\":\"N\",\"OwnerName\":\"DBC\",\"PermSpace\":\"1073741824\",\"ProtectionType\":\"F \",\"SpoolSpace\":\"10737418240\",\"TempSpace\":\"285561832072\"}]\n"
     },
     "execution_count": 5,
     "metadata": {
      "application/vnd.teradata.resultset": "{\"resultSetID\":\"/home/jovyan/JupyterLabRoot/MTanco/Teradata/Resultsets/2018.10.24_00.46.01.661_UTC\",\"historyID\":1,\"chunkID\":\"00001\",\"sessionid\":\"cdzHzy3MtyViYXUepoOygHI1HkpFhDTqbZPlpY3XrYs=\",\"portnum\":\"10002\",\"dockermode\":\"docker\",\"totalRowCount\":10,\"rowLimit\":0,\"columnMetadata\":[{\"columnName\":\"DatabaseName\",\"columnTypeName\":\"VARCHAR\",\"length\":128,\"scale\":128},{\"columnNumber\":1,\"columnName\":\"CreatorName\",\"columnTypeName\":\"VARCHAR\",\"length\":128,\"scale\":128},{\"columnNumber\":2,\"columnName\":\"OwnerName\",\"columnTypeName\":\"VARCHAR\",\"length\":128,\"scale\":128},{\"columnNumber\":3,\"columnName\":\"AccountName\",\"columnTypeName\":\"VARCHAR\",\"length\":128,\"scale\":128},{\"columnNumber\":4,\"columnName\":\"ProtectionType\",\"columnTypeName\":\"CHAR\",\"length\":1,\"scale\":1},{\"columnNumber\":5,\"columnName\":\"JournalFlag\",\"columnTypeName\":\"CHAR\",\"length\":2,\"scale\":2},{\"columnNumber\":6,\"columnName\":\"PermSpace\",\"columnTypeName\":\"BIGINT\"},{\"columnNumber\":7,\"columnName\":\"SpoolSpace\",\"columnTypeName\":\"BIGINT\"},{\"columnNumber\":8,\"columnName\":\"TempSpace\",\"columnTypeName\":\"BIGINT\"},{\"columnNumber\":9,\"columnName\":\"CommentString\",\"columnTypeName\":\"VARCHAR\",\"length\":255,\"scale\":255},{\"columnNumber\":10,\"columnName\":\"CreateTimeStamp\",\"columnTypeName\":\"TIMESTAMP\"},{\"columnNumber\":11,\"columnName\":\"LastAlterName\",\"columnTypeName\":\"VARCHAR\",\"length\":128,\"scale\":128},{\"columnNumber\":12,\"columnName\":\"LastAlterTimeStamp\",\"columnTypeName\":\"TIMESTAMP\"},{\"columnNumber\":13,\"columnName\":\"DBKind\",\"columnTypeName\":\"CHAR\",\"length\":1,\"scale\":1},{\"columnNumber\":14,\"columnName\":\"AccessCount\",\"columnTypeName\":\"BIGINT\"},{\"columnNumber\":15,\"columnName\":\"LastAccessTimeStamp\",\"columnTypeName\":\"TIMESTAMP\"},{\"columnNumber\":16,\"columnName\":\"DefaultMapName\",\"columnTypeName\":\"VARCHAR\",\"length\":128,\"scale\":128},{\"columnNumber\":17,\"columnName\":\"MapOverride\",\"columnTypeName\":\"VARCHAR\",\"length\":1,\"scale\":1}]}"
     },
     "output_type": "execute_result"
    }
   ],
   "source": [
    "select top 10 *\n",
    "from dbc.DatabasesV"
   ]
  },
  {
   "cell_type": "markdown",
   "metadata": {},
   "source": [
    "## Recursive Queries\n",
    "\n",
    "With this logic in mind, we can use a recursive query to navigate the ownership path of each database."
   ]
  },
  {
   "cell_type": "code",
   "execution_count": 6,
   "metadata": {},
   "outputs": [
    {
     "data": {
      "application/vnd.teradata.resultset": "[{\"DB_NAME\":\"All\",\"DB_NODE\":\"All\",\"DB_OWNER\":\"DBC\",\"LVL\":\"1\"},{\"DB_NAME\":\"Crashdumps\",\"DB_NODE\":\"Crashdumps\",\"DB_OWNER\":\"DBC\",\"LVL\":\"1\"},{\"DB_NAME\":\"DBC\",\"DB_NODE\":\"DBC\",\"DB_OWNER\":\"DBC\",\"LVL\":\"1\"},{\"DB_NAME\":\"dbcmngr\",\"DB_NODE\":\"dbcmngr\",\"DB_OWNER\":\"DBC\",\"LVL\":\"1\"},{\"DB_NAME\":\"Default\",\"DB_NODE\":\"Default\",\"DB_OWNER\":\"DBC\",\"LVL\":\"1\"},{\"DB_NAME\":\"demo\",\"DB_NODE\":\"demo\",\"DB_OWNER\":\"DBC\",\"LVL\":\"1\"},{\"DB_NAME\":\"DL_SOM\",\"DB_NODE\":\"DL_SOM\",\"DB_OWNER\":\"DBC\",\"LVL\":\"1\"},{\"DB_NAME\":\"docs\",\"DB_NODE\":\"docs\",\"DB_OWNER\":\"DBC\",\"LVL\":\"1\"},{\"DB_NAME\":\"External_AP\",\"DB_NODE\":\"External_AP\",\"DB_OWNER\":\"DBC\",\"LVL\":\"1\"},{\"DB_NAME\":\"EXTUSER\",\"DB_NODE\":\"EXTUSER\",\"DB_OWNER\":\"EXTUSER\",\"LVL\":\"1\"},{\"DB_NAME\":\"LockLogShredder\",\"DB_NODE\":\"LockLogShredder\",\"DB_OWNER\":\"DBC\",\"LVL\":\"1\"},{\"DB_NAME\":\"MT_TEST\",\"DB_NODE\":\"MT_TEST\",\"DB_OWNER\":\"USER8\",\"LVL\":\"1\"},{\"DB_NAME\":\"USER8\",\"DB_NODE\":\"MT_TEST\",\"DB_OWNER\":\"DBC\",\"LVL\":\"2\"},{\"DB_NAME\":\"MT_TEST2\",\"DB_NODE\":\"MT_TEST2\",\"DB_OWNER\":\"MT_TEST\",\"LVL\":\"1\"},{\"DB_NAME\":\"MT_TEST\",\"DB_NODE\":\"MT_TEST2\",\"DB_OWNER\":\"USER8\",\"LVL\":\"2\"},{\"DB_NAME\":\"USER8\",\"DB_NODE\":\"MT_TEST2\",\"DB_OWNER\":\"DBC\",\"LVL\":\"3\"},{\"DB_NAME\":\"PM\",\"DB_NODE\":\"PM\",\"DB_OWNER\":\"DBC\",\"LVL\":\"1\"},{\"DB_NAME\":\"proxyuser\",\"DB_NODE\":\"proxyuser\",\"DB_OWNER\":\"DBC\",\"LVL\":\"1\"},{\"DB_NAME\":\"PUBLIC\",\"DB_NODE\":\"PUBLIC\",\"DB_OWNER\":\"DBC\",\"LVL\":\"1\"},{\"DB_NAME\":\"scratch\",\"DB_NODE\":\"scratch\",\"DB_OWNER\":\"DBC\",\"LVL\":\"1\"},{\"DB_NAME\":\"SOM\",\"DB_NODE\":\"SOM\",\"DB_OWNER\":\"DBC\",\"LVL\":\"1\"},{\"DB_NAME\":\"SOMBI\",\"DB_NODE\":\"SOMBI\",\"DB_OWNER\":\"DBC\",\"LVL\":\"1\"},{\"DB_NAME\":\"SQLJ\",\"DB_NODE\":\"SQLJ\",\"DB_OWNER\":\"DBC\",\"LVL\":\"1\"},{\"DB_NAME\":\"SysAdmin\",\"DB_NODE\":\"SysAdmin\",\"DB_OWNER\":\"DBC\",\"LVL\":\"1\"},{\"DB_NAME\":\"SYSBAR\",\"DB_NODE\":\"SYSBAR\",\"DB_OWNER\":\"DBC\",\"LVL\":\"1\"},{\"DB_NAME\":\"SYSJDBC\",\"DB_NODE\":\"SYSJDBC\",\"DB_OWNER\":\"DBC\",\"LVL\":\"1\"},{\"DB_NAME\":\"SYSLIB\",\"DB_NODE\":\"SYSLIB\",\"DB_OWNER\":\"DBC\",\"LVL\":\"1\"},{\"DB_NAME\":\"SYSSPATIAL\",\"DB_NODE\":\"SYSSPATIAL\",\"DB_OWNER\":\"DBC\",\"LVL\":\"1\"},{\"DB_NAME\":\"SystemFe\",\"DB_NODE\":\"SystemFe\",\"DB_OWNER\":\"DBC\",\"LVL\":\"1\"},{\"DB_NAME\":\"SYSUDTLIB\",\"DB_NODE\":\"SYSUDTLIB\",\"DB_OWNER\":\"DBC\",\"LVL\":\"1\"},{\"DB_NAME\":\"SYSUIF\",\"DB_NODE\":\"SYSUIF\",\"DB_OWNER\":\"DBC\",\"LVL\":\"1\"},{\"DB_NAME\":\"Sys_Calendar\",\"DB_NODE\":\"Sys_Calendar\",\"DB_OWNER\":\"DBC\",\"LVL\":\"1\"},{\"DB_NAME\":\"TDMaps\",\"DB_NODE\":\"TDMaps\",\"DB_OWNER\":\"DBC\",\"LVL\":\"1\"},{\"DB_NAME\":\"TDPUSER\",\"DB_NODE\":\"TDPUSER\",\"DB_OWNER\":\"DBC\",\"LVL\":\"1\"},{\"DB_NAME\":\"TDQCD\",\"DB_NODE\":\"TDQCD\",\"DB_OWNER\":\"DBC\",\"LVL\":\"1\"},{\"DB_NAME\":\"TDStats\",\"DB_NODE\":\"TDStats\",\"DB_OWNER\":\"DBC\",\"LVL\":\"1\"},{\"DB_NAME\":\"tdwm\",\"DB_NODE\":\"tdwm\",\"DB_OWNER\":\"DBC\",\"LVL\":\"1\"},{\"DB_NAME\":\"TD_SERVER_DB\",\"DB_NODE\":\"TD_SERVER_DB\",\"DB_OWNER\":\"DBC\",\"LVL\":\"1\"},{\"DB_NAME\":\"TD_SYSFNLIB\",\"DB_NODE\":\"TD_SYSFNLIB\",\"DB_OWNER\":\"DBC\",\"LVL\":\"1\"},{\"DB_NAME\":\"TD_SYSGPL\",\"DB_NODE\":\"TD_SYSGPL\",\"DB_OWNER\":\"DBC\",\"LVL\":\"1\"},{\"DB_NAME\":\"TD_SYSXML\",\"DB_NODE\":\"TD_SYSXML\",\"DB_OWNER\":\"DBC\",\"LVL\":\"1\"},{\"DB_NAME\":\"USER1\",\"DB_NODE\":\"USER1\",\"DB_OWNER\":\"DBC\",\"LVL\":\"1\"},{\"DB_NAME\":\"USER10\",\"DB_NODE\":\"USER10\",\"DB_OWNER\":\"DBC\",\"LVL\":\"1\"},{\"DB_NAME\":\"USER2\",\"DB_NODE\":\"USER2\",\"DB_OWNER\":\"DBC\",\"LVL\":\"1\"},{\"DB_NAME\":\"USER3\",\"DB_NODE\":\"USER3\",\"DB_OWNER\":\"DBC\",\"LVL\":\"1\"},{\"DB_NAME\":\"USER4\",\"DB_NODE\":\"USER4\",\"DB_OWNER\":\"DBC\",\"LVL\":\"1\"},{\"DB_NAME\":\"USER5\",\"DB_NODE\":\"USER5\",\"DB_OWNER\":\"DBC\",\"LVL\":\"1\"},{\"DB_NAME\":\"USER6\",\"DB_NODE\":\"USER6\",\"DB_OWNER\":\"DBC\",\"LVL\":\"1\"},{\"DB_NAME\":\"USER7\",\"DB_NODE\":\"USER7\",\"DB_OWNER\":\"DBC\",\"LVL\":\"1\"},{\"DB_NAME\":\"USER8\",\"DB_NODE\":\"USER8\",\"DB_OWNER\":\"DBC\",\"LVL\":\"1\"},{\"DB_NAME\":\"USER9\",\"DB_NODE\":\"USER9\",\"DB_OWNER\":\"DBC\",\"LVL\":\"1\"},{\"DB_NAME\":\"video\",\"DB_NODE\":\"video\",\"DB_OWNER\":\"DBC\",\"LVL\":\"1\"}]\n"
     },
     "execution_count": 6,
     "metadata": {
      "application/vnd.teradata.resultset": "{\"resultSetID\":\"/home/jovyan/JupyterLabRoot/MTanco/Teradata/Resultsets/2018.10.24_00.46.06.588_UTC\",\"historyID\":2,\"chunkID\":\"00001\",\"sessionid\":\"cdzHzy3MtyViYXUepoOygHI1HkpFhDTqbZPlpY3XrYs=\",\"portnum\":\"10002\",\"dockermode\":\"docker\",\"totalRowCount\":52,\"rowLimit\":0,\"columnMetadata\":[{\"columnName\":\"DB_NODE\",\"columnTypeName\":\"VARCHAR\",\"length\":128,\"scale\":128},{\"columnNumber\":1,\"columnName\":\"DB_NAME\",\"columnTypeName\":\"VARCHAR\",\"length\":128,\"scale\":128},{\"columnNumber\":2,\"columnName\":\"DB_OWNER\",\"columnTypeName\":\"VARCHAR\",\"length\":128,\"scale\":128},{\"columnNumber\":3,\"columnName\":\"LVL\",\"columnTypeName\":\"BYTEINT\"}]}"
     },
     "output_type": "execute_result"
    }
   ],
   "source": [
    "WITH RECURSIVE DATABASE_HIREARCHY (DB_NODE,DB_NAME,DB_OWNER,LVL) AS (\n",
    "\n",
    "    --INITIAL CASE\n",
    "    SELECT\n",
    "        DB.DATABASENAME AS DB_NODE\n",
    "        ,DB.DATABASENAME AS DB_NAME\n",
    "        ,DB.OWNERNAME DB_OWNER\n",
    "        , 1 AS LVL\n",
    "    FROM DBC.DATABASESV AS DB\n",
    "\n",
    "    UNION ALL\n",
    "\n",
    "\n",
    "    SELECT\n",
    "        DH.DB_NODE \n",
    "        ,DH.DB_OWNER AS DB_NAME\n",
    "        ,DB.OWNERNAME AS DB_OWNER\n",
    "        ,DH.LVL + 1\n",
    "    FROM DATABASE_HIREARCHY AS DH --CALLS SELF RECURSIVELY\n",
    "    INNER JOIN DBC.DATABASESV AS DB\n",
    "        ON DH.DB_OWNER = DB.DATABASENAME\n",
    "    WHERE DB.DATABASENAME <> DB.OWNERNAME --BASE CASE, DB IS IT'S OWN OWNER\n",
    "\n",
    ") \n",
    "SELECT * \n",
    "FROM DATABASE_HIREARCHY\n",
    "ORDER BY DB_NODE, LVL;"
   ]
  },
  {
   "cell_type": "markdown",
   "metadata": {},
   "source": [
    "## nPath for Cleaner Output\n",
    "\n",
    "We could stop here and say this output is good enough for answer our question. But for very deeply nested databases this is not easy to read. We'll next take advantage of nPath's ability to accumulate paths of events. "
   ]
  },
  {
   "cell_type": "markdown",
   "metadata": {},
   "source": [
    "### Translate to Latin\n",
    "\n",
    "By default, the text columns in DBC views are unicode. The nPath function requires latin characters in the accumulate clauses, so we translate these in our select."
   ]
  },
  {
   "cell_type": "code",
   "execution_count": 7,
   "metadata": {},
   "outputs": [
    {
     "data": {
      "application/vnd.teradata.resultset": "[{\"DB_NAME\":\"All\",\"DB_NODE\":\"All\",\"DB_OWNER\":\"DBC\",\"LVL\":\"1\"},{\"DB_NAME\":\"Crashdumps\",\"DB_NODE\":\"Crashdumps\",\"DB_OWNER\":\"DBC\",\"LVL\":\"1\"},{\"DB_NAME\":\"DBC\",\"DB_NODE\":\"DBC\",\"DB_OWNER\":\"DBC\",\"LVL\":\"1\"},{\"DB_NAME\":\"dbcmngr\",\"DB_NODE\":\"dbcmngr\",\"DB_OWNER\":\"DBC\",\"LVL\":\"1\"},{\"DB_NAME\":\"Default\",\"DB_NODE\":\"Default\",\"DB_OWNER\":\"DBC\",\"LVL\":\"1\"},{\"DB_NAME\":\"demo\",\"DB_NODE\":\"demo\",\"DB_OWNER\":\"DBC\",\"LVL\":\"1\"},{\"DB_NAME\":\"DL_SOM\",\"DB_NODE\":\"DL_SOM\",\"DB_OWNER\":\"DBC\",\"LVL\":\"1\"},{\"DB_NAME\":\"docs\",\"DB_NODE\":\"docs\",\"DB_OWNER\":\"DBC\",\"LVL\":\"1\"},{\"DB_NAME\":\"External_AP\",\"DB_NODE\":\"External_AP\",\"DB_OWNER\":\"DBC\",\"LVL\":\"1\"},{\"DB_NAME\":\"EXTUSER\",\"DB_NODE\":\"EXTUSER\",\"DB_OWNER\":\"EXTUSER\",\"LVL\":\"1\"},{\"DB_NAME\":\"LockLogShredder\",\"DB_NODE\":\"LockLogShredder\",\"DB_OWNER\":\"DBC\",\"LVL\":\"1\"},{\"DB_NAME\":\"MT_TEST\",\"DB_NODE\":\"MT_TEST\",\"DB_OWNER\":\"USER8\",\"LVL\":\"1\"},{\"DB_NAME\":\"USER8\",\"DB_NODE\":\"MT_TEST\",\"DB_OWNER\":\"DBC\",\"LVL\":\"2\"},{\"DB_NAME\":\"MT_TEST2\",\"DB_NODE\":\"MT_TEST2\",\"DB_OWNER\":\"MT_TEST\",\"LVL\":\"1\"},{\"DB_NAME\":\"MT_TEST\",\"DB_NODE\":\"MT_TEST2\",\"DB_OWNER\":\"USER8\",\"LVL\":\"2\"},{\"DB_NAME\":\"USER8\",\"DB_NODE\":\"MT_TEST2\",\"DB_OWNER\":\"DBC\",\"LVL\":\"3\"},{\"DB_NAME\":\"PM\",\"DB_NODE\":\"PM\",\"DB_OWNER\":\"DBC\",\"LVL\":\"1\"},{\"DB_NAME\":\"proxyuser\",\"DB_NODE\":\"proxyuser\",\"DB_OWNER\":\"DBC\",\"LVL\":\"1\"},{\"DB_NAME\":\"PUBLIC\",\"DB_NODE\":\"PUBLIC\",\"DB_OWNER\":\"DBC\",\"LVL\":\"1\"},{\"DB_NAME\":\"scratch\",\"DB_NODE\":\"scratch\",\"DB_OWNER\":\"DBC\",\"LVL\":\"1\"},{\"DB_NAME\":\"SOM\",\"DB_NODE\":\"SOM\",\"DB_OWNER\":\"DBC\",\"LVL\":\"1\"},{\"DB_NAME\":\"SOMBI\",\"DB_NODE\":\"SOMBI\",\"DB_OWNER\":\"DBC\",\"LVL\":\"1\"},{\"DB_NAME\":\"SQLJ\",\"DB_NODE\":\"SQLJ\",\"DB_OWNER\":\"DBC\",\"LVL\":\"1\"},{\"DB_NAME\":\"SysAdmin\",\"DB_NODE\":\"SysAdmin\",\"DB_OWNER\":\"DBC\",\"LVL\":\"1\"},{\"DB_NAME\":\"SYSBAR\",\"DB_NODE\":\"SYSBAR\",\"DB_OWNER\":\"DBC\",\"LVL\":\"1\"},{\"DB_NAME\":\"SYSJDBC\",\"DB_NODE\":\"SYSJDBC\",\"DB_OWNER\":\"DBC\",\"LVL\":\"1\"},{\"DB_NAME\":\"SYSLIB\",\"DB_NODE\":\"SYSLIB\",\"DB_OWNER\":\"DBC\",\"LVL\":\"1\"},{\"DB_NAME\":\"SYSSPATIAL\",\"DB_NODE\":\"SYSSPATIAL\",\"DB_OWNER\":\"DBC\",\"LVL\":\"1\"},{\"DB_NAME\":\"SystemFe\",\"DB_NODE\":\"SystemFe\",\"DB_OWNER\":\"DBC\",\"LVL\":\"1\"},{\"DB_NAME\":\"SYSUDTLIB\",\"DB_NODE\":\"SYSUDTLIB\",\"DB_OWNER\":\"DBC\",\"LVL\":\"1\"},{\"DB_NAME\":\"SYSUIF\",\"DB_NODE\":\"SYSUIF\",\"DB_OWNER\":\"DBC\",\"LVL\":\"1\"},{\"DB_NAME\":\"Sys_Calendar\",\"DB_NODE\":\"Sys_Calendar\",\"DB_OWNER\":\"DBC\",\"LVL\":\"1\"},{\"DB_NAME\":\"TDMaps\",\"DB_NODE\":\"TDMaps\",\"DB_OWNER\":\"DBC\",\"LVL\":\"1\"},{\"DB_NAME\":\"TDPUSER\",\"DB_NODE\":\"TDPUSER\",\"DB_OWNER\":\"DBC\",\"LVL\":\"1\"},{\"DB_NAME\":\"TDQCD\",\"DB_NODE\":\"TDQCD\",\"DB_OWNER\":\"DBC\",\"LVL\":\"1\"},{\"DB_NAME\":\"TDStats\",\"DB_NODE\":\"TDStats\",\"DB_OWNER\":\"DBC\",\"LVL\":\"1\"},{\"DB_NAME\":\"tdwm\",\"DB_NODE\":\"tdwm\",\"DB_OWNER\":\"DBC\",\"LVL\":\"1\"},{\"DB_NAME\":\"TD_SERVER_DB\",\"DB_NODE\":\"TD_SERVER_DB\",\"DB_OWNER\":\"DBC\",\"LVL\":\"1\"},{\"DB_NAME\":\"TD_SYSFNLIB\",\"DB_NODE\":\"TD_SYSFNLIB\",\"DB_OWNER\":\"DBC\",\"LVL\":\"1\"},{\"DB_NAME\":\"TD_SYSGPL\",\"DB_NODE\":\"TD_SYSGPL\",\"DB_OWNER\":\"DBC\",\"LVL\":\"1\"},{\"DB_NAME\":\"TD_SYSXML\",\"DB_NODE\":\"TD_SYSXML\",\"DB_OWNER\":\"DBC\",\"LVL\":\"1\"},{\"DB_NAME\":\"USER1\",\"DB_NODE\":\"USER1\",\"DB_OWNER\":\"DBC\",\"LVL\":\"1\"},{\"DB_NAME\":\"USER10\",\"DB_NODE\":\"USER10\",\"DB_OWNER\":\"DBC\",\"LVL\":\"1\"},{\"DB_NAME\":\"USER2\",\"DB_NODE\":\"USER2\",\"DB_OWNER\":\"DBC\",\"LVL\":\"1\"},{\"DB_NAME\":\"USER3\",\"DB_NODE\":\"USER3\",\"DB_OWNER\":\"DBC\",\"LVL\":\"1\"},{\"DB_NAME\":\"USER4\",\"DB_NODE\":\"USER4\",\"DB_OWNER\":\"DBC\",\"LVL\":\"1\"},{\"DB_NAME\":\"USER5\",\"DB_NODE\":\"USER5\",\"DB_OWNER\":\"DBC\",\"LVL\":\"1\"},{\"DB_NAME\":\"USER6\",\"DB_NODE\":\"USER6\",\"DB_OWNER\":\"DBC\",\"LVL\":\"1\"},{\"DB_NAME\":\"USER7\",\"DB_NODE\":\"USER7\",\"DB_OWNER\":\"DBC\",\"LVL\":\"1\"},{\"DB_NAME\":\"USER8\",\"DB_NODE\":\"USER8\",\"DB_OWNER\":\"DBC\",\"LVL\":\"1\"},{\"DB_NAME\":\"USER9\",\"DB_NODE\":\"USER9\",\"DB_OWNER\":\"DBC\",\"LVL\":\"1\"},{\"DB_NAME\":\"video\",\"DB_NODE\":\"video\",\"DB_OWNER\":\"DBC\",\"LVL\":\"1\"}]\n"
     },
     "execution_count": 7,
     "metadata": {
      "application/vnd.teradata.resultset": "{\"resultSetID\":\"/home/jovyan/JupyterLabRoot/MTanco/Teradata/Resultsets/2018.10.24_00.46.15.475_UTC\",\"historyID\":3,\"chunkID\":\"00001\",\"sessionid\":\"cdzHzy3MtyViYXUepoOygHI1HkpFhDTqbZPlpY3XrYs=\",\"portnum\":\"10002\",\"dockermode\":\"docker\",\"totalRowCount\":52,\"rowLimit\":0,\"columnMetadata\":[{\"columnName\":\"DB_NODE\",\"columnTypeName\":\"VARCHAR\",\"length\":128,\"scale\":128},{\"columnNumber\":1,\"columnName\":\"DB_NAME\",\"columnTypeName\":\"VARCHAR\",\"length\":128,\"scale\":128},{\"columnNumber\":2,\"columnName\":\"DB_OWNER\",\"columnTypeName\":\"VARCHAR\",\"length\":128,\"scale\":128},{\"columnNumber\":3,\"columnName\":\"LVL\",\"columnTypeName\":\"BYTEINT\"}]}"
     },
     "output_type": "execute_result"
    }
   ],
   "source": [
    "WITH RECURSIVE DATABASE_HIREARCHY (DB_NODE,DB_NAME,DB_OWNER,LVL) AS (\n",
    "\n",
    "    --INITIAL CASE\n",
    "    SELECT\n",
    "        TRANSLATE(DB.DATABASENAME USING UNICODE_TO_LATIN) AS DB_NODE\n",
    "        ,TRANSLATE(DB.DATABASENAME USING UNICODE_TO_LATIN) AS DB_NAME\n",
    "        ,TRANSLATE(DB.OWNERNAME USING UNICODE_TO_LATIN) DB_OWNER\n",
    "        , 1 AS LVL\n",
    "    FROM DBC.DATABASESV AS DB\n",
    "\n",
    "    UNION ALL\n",
    "\n",
    "\n",
    "    SELECT\n",
    "        DH.DB_NODE \n",
    "        ,DH.DB_OWNER AS DB_NAME\n",
    "        ,TRANSLATE(DB.OWNERNAME USING UNICODE_TO_LATIN) AS DB_OWNER\n",
    "        ,DH.LVL + 1\n",
    "    FROM DATABASE_HIREARCHY AS DH --CALLS SELF RECURSIVELY\n",
    "    INNER JOIN DBC.DATABASESV AS DB\n",
    "        ON DH.DB_OWNER = DB.DATABASENAME\n",
    "    WHERE DB.DATABASENAME <> DB.OWNERNAME --BASE CASE, DB IS IT'S OWN OWNER\n",
    "\n",
    ") \n",
    "SELECT * \n",
    "FROM DATABASE_HIREARCHY\n",
    "ORDER BY DB_NODE, LVL;"
   ]
  },
  {
   "cell_type": "markdown",
   "metadata": {},
   "source": [
    "### Recursive View\n",
    "\n",
    "We cannot use a recursive query as a derived table, so we will create the same output as a recursive view which we can then call from our nPath function."
   ]
  },
  {
   "cell_type": "code",
   "execution_count": 8,
   "metadata": {},
   "outputs": [
    {
     "data": {
      "text/plain": [
       "Success: 0 rows affected"
      ]
     },
     "execution_count": 8,
     "metadata": {
      "application/vnd.teradata.resultset": ""
     },
     "output_type": "execute_result"
    }
   ],
   "source": [
    "REPLACE RECURSIVE VIEW DATABASE_HIREARCHY (DB_NODE,DB_NAME,DB_OWNER,LVL) AS (\n",
    "\n",
    "    --INITIAL CASE\n",
    "    SELECT\n",
    "        TRANSLATE(DB.DATABASENAME USING UNICODE_TO_LATIN) AS DB_NODE\n",
    "        ,TRANSLATE(DB.DATABASENAME USING UNICODE_TO_LATIN) AS DB_NAME\n",
    "        ,TRANSLATE(DB.OWNERNAME USING UNICODE_TO_LATIN) DB_OWNER\n",
    "        , 1 AS LVL\n",
    "    FROM DBC.DATABASESV AS DB\n",
    "\n",
    "    UNION ALL\n",
    "\n",
    "\n",
    "    SELECT\n",
    "        DH.DB_NODE \n",
    "        ,DH.DB_OWNER AS DB_NAME\n",
    "        ,TRANSLATE(DB.OWNERNAME USING UNICODE_TO_LATIN) AS DB_OWNER\n",
    "        ,DH.LVL + 1\n",
    "    FROM DATABASE_HIREARCHY AS DH --CALLS SELF RECURSIVELY\n",
    "    INNER JOIN DBC.DATABASESV AS DB\n",
    "        ON DH.DB_OWNER = DB.DATABASENAME\n",
    "    WHERE DB.DATABASENAME <> DB.OWNERNAME --BASE CASE, DB IS IT'S OWN OWNER\n",
    "\n",
    ") ;"
   ]
  },
  {
   "cell_type": "code",
   "execution_count": 9,
   "metadata": {},
   "outputs": [
    {
     "data": {
      "application/vnd.teradata.resultset": "[{\"DB_NAME\":\"MT_TEST2\",\"DB_NODE\":\"MT_TEST2\",\"DB_OWNER\":\"MT_TEST\",\"LVL\":\"1\"},{\"DB_NAME\":\"MT_TEST\",\"DB_NODE\":\"MT_TEST2\",\"DB_OWNER\":\"USER8\",\"LVL\":\"2\"},{\"DB_NAME\":\"USER8\",\"DB_NODE\":\"MT_TEST2\",\"DB_OWNER\":\"DBC\",\"LVL\":\"3\"}]\n"
     },
     "execution_count": 9,
     "metadata": {
      "application/vnd.teradata.resultset": "{\"resultSetID\":\"/home/jovyan/JupyterLabRoot/MTanco/Teradata/Resultsets/2018.10.24_00.46.24.929_UTC\",\"historyID\":5,\"chunkID\":\"00001\",\"sessionid\":\"cdzHzy3MtyViYXUepoOygHI1HkpFhDTqbZPlpY3XrYs=\",\"portnum\":\"10002\",\"dockermode\":\"docker\",\"totalRowCount\":3,\"rowLimit\":0,\"columnMetadata\":[{\"columnName\":\"DB_NODE\",\"columnTypeName\":\"VARCHAR\",\"length\":128,\"scale\":128},{\"columnNumber\":1,\"columnName\":\"DB_NAME\",\"columnTypeName\":\"VARCHAR\",\"length\":128,\"scale\":128},{\"columnNumber\":2,\"columnName\":\"DB_OWNER\",\"columnTypeName\":\"VARCHAR\",\"length\":128,\"scale\":128},{\"columnNumber\":3,\"columnName\":\"LVL\",\"columnTypeName\":\"BYTEINT\"}]}"
     },
     "output_type": "execute_result"
    }
   ],
   "source": [
    "SELECT * FROM DATABASE_HIREARCHY WHERE DB_NODE = 'MT_TEST2';"
   ]
  },
  {
   "cell_type": "markdown",
   "metadata": {},
   "source": [
    "### Accumulate Paths"
   ]
  },
  {
   "cell_type": "code",
   "execution_count": 10,
   "metadata": {},
   "outputs": [
    {
     "data": {
      "application/vnd.teradata.resultset": "[{\"OWNER_PATH\":\"[DBC, USER8, MT_TEST]\",\"PATH_LENGTH\":\"4\",\"db_name\":\"MT_TEST2\"},{\"OWNER_PATH\":\"[DBC, USER8]\",\"PATH_LENGTH\":\"3\",\"db_name\":\"MT_TEST\"},{\"OWNER_PATH\":\"[DBC]\",\"PATH_LENGTH\":\"2\",\"db_name\":\"SOM\"},{\"OWNER_PATH\":\"[DBC]\",\"PATH_LENGTH\":\"2\",\"db_name\":\"SYSSPATIAL\"},{\"OWNER_PATH\":\"[DBC]\",\"PATH_LENGTH\":\"2\",\"db_name\":\"TDStats\"},{\"OWNER_PATH\":\"[DBC]\",\"PATH_LENGTH\":\"2\",\"db_name\":\"TD_SERVER_DB\"},{\"OWNER_PATH\":\"[DBC]\",\"PATH_LENGTH\":\"2\",\"db_name\":\"TD_SYSFNLIB\"},{\"OWNER_PATH\":\"[DBC]\",\"PATH_LENGTH\":\"2\",\"db_name\":\"video\"},{\"OWNER_PATH\":\"[DBC]\",\"PATH_LENGTH\":\"2\",\"db_name\":\"USER9\"},{\"OWNER_PATH\":\"[DBC]\",\"PATH_LENGTH\":\"2\",\"db_name\":\"Sys_Calendar\"},{\"OWNER_PATH\":\"[DBC]\",\"PATH_LENGTH\":\"2\",\"db_name\":\"SysAdmin\"},{\"OWNER_PATH\":\"[DBC]\",\"PATH_LENGTH\":\"2\",\"db_name\":\"All\"},{\"OWNER_PATH\":\"[DBC]\",\"PATH_LENGTH\":\"2\",\"db_name\":\"tdwm\"},{\"OWNER_PATH\":\"[DBC]\",\"PATH_LENGTH\":\"2\",\"db_name\":\"proxyuser\"},{\"OWNER_PATH\":\"[EXTUSER]\",\"PATH_LENGTH\":\"2\",\"db_name\":\"EXTUSER\"},{\"OWNER_PATH\":\"[DBC]\",\"PATH_LENGTH\":\"2\",\"db_name\":\"docs\"},{\"OWNER_PATH\":\"[DBC]\",\"PATH_LENGTH\":\"2\",\"db_name\":\"scratch\"},{\"OWNER_PATH\":\"[DBC]\",\"PATH_LENGTH\":\"2\",\"db_name\":\"SYSBAR\"},{\"OWNER_PATH\":\"[DBC]\",\"PATH_LENGTH\":\"2\",\"db_name\":\"SYSJDBC\"},{\"OWNER_PATH\":\"[DBC]\",\"PATH_LENGTH\":\"2\",\"db_name\":\"USER8\"},{\"OWNER_PATH\":\"[DBC]\",\"PATH_LENGTH\":\"2\",\"db_name\":\"SQLJ\"},{\"OWNER_PATH\":\"[DBC]\",\"PATH_LENGTH\":\"2\",\"db_name\":\"PUBLIC\"},{\"OWNER_PATH\":\"[DBC]\",\"PATH_LENGTH\":\"2\",\"db_name\":\"External_AP\"},{\"OWNER_PATH\":\"[DBC]\",\"PATH_LENGTH\":\"2\",\"db_name\":\"TD_SYSXML\"},{\"OWNER_PATH\":\"[DBC]\",\"PATH_LENGTH\":\"2\",\"db_name\":\"USER10\"},{\"OWNER_PATH\":\"[DBC]\",\"PATH_LENGTH\":\"2\",\"db_name\":\"SYSLIB\"},{\"OWNER_PATH\":\"[DBC]\",\"PATH_LENGTH\":\"2\",\"db_name\":\"Default\"},{\"OWNER_PATH\":\"[DBC]\",\"PATH_LENGTH\":\"2\",\"db_name\":\"PM\"},{\"OWNER_PATH\":\"[DBC]\",\"PATH_LENGTH\":\"2\",\"db_name\":\"TD_SYSGPL\"},{\"OWNER_PATH\":\"[DBC]\",\"PATH_LENGTH\":\"2\",\"db_name\":\"USER4\"},{\"OWNER_PATH\":\"[DBC]\",\"PATH_LENGTH\":\"2\",\"db_name\":\"USER6\"},{\"OWNER_PATH\":\"[DBC]\",\"PATH_LENGTH\":\"2\",\"db_name\":\"USER7\"},{\"OWNER_PATH\":\"[DBC]\",\"PATH_LENGTH\":\"2\",\"db_name\":\"SOMBI\"},{\"OWNER_PATH\":\"[DBC]\",\"PATH_LENGTH\":\"2\",\"db_name\":\"DL_SOM\"},{\"OWNER_PATH\":\"[DBC]\",\"PATH_LENGTH\":\"2\",\"db_name\":\"DBC\"},{\"OWNER_PATH\":\"[DBC]\",\"PATH_LENGTH\":\"2\",\"db_name\":\"LockLogShredder\"},{\"OWNER_PATH\":\"[DBC]\",\"PATH_LENGTH\":\"2\",\"db_name\":\"TDQCD\"},{\"OWNER_PATH\":\"[DBC]\",\"PATH_LENGTH\":\"2\",\"db_name\":\"USER1\"},{\"OWNER_PATH\":\"[DBC]\",\"PATH_LENGTH\":\"2\",\"db_name\":\"TDMaps\"},{\"OWNER_PATH\":\"[DBC]\",\"PATH_LENGTH\":\"2\",\"db_name\":\"USER5\"},{\"OWNER_PATH\":\"[DBC]\",\"PATH_LENGTH\":\"2\",\"db_name\":\"USER2\"},{\"OWNER_PATH\":\"[DBC]\",\"PATH_LENGTH\":\"2\",\"db_name\":\"dbcmngr\"},{\"OWNER_PATH\":\"[DBC]\",\"PATH_LENGTH\":\"2\",\"db_name\":\"Crashdumps\"},{\"OWNER_PATH\":\"[DBC]\",\"PATH_LENGTH\":\"2\",\"db_name\":\"SYSUDTLIB\"},{\"OWNER_PATH\":\"[DBC]\",\"PATH_LENGTH\":\"2\",\"db_name\":\"TDPUSER\"},{\"OWNER_PATH\":\"[DBC]\",\"PATH_LENGTH\":\"2\",\"db_name\":\"USER3\"},{\"OWNER_PATH\":\"[DBC]\",\"PATH_LENGTH\":\"2\",\"db_name\":\"SYSUIF\"},{\"OWNER_PATH\":\"[DBC]\",\"PATH_LENGTH\":\"2\",\"db_name\":\"SystemFe\"},{\"OWNER_PATH\":\"[DBC]\",\"PATH_LENGTH\":\"2\",\"db_name\":\"demo\"}]\n"
     },
     "execution_count": 10,
     "metadata": {
      "application/vnd.teradata.resultset": "{\"resultSetID\":\"/home/jovyan/JupyterLabRoot/MTanco/Teradata/Resultsets/2018.10.24_00.46.30.408_UTC\",\"historyID\":6,\"chunkID\":\"00001\",\"sessionid\":\"cdzHzy3MtyViYXUepoOygHI1HkpFhDTqbZPlpY3XrYs=\",\"portnum\":\"10002\",\"dockermode\":\"docker\",\"totalRowCount\":49,\"rowLimit\":0,\"columnMetadata\":[{\"columnName\":\"db_name\",\"columnTypeName\":\"VARCHAR\",\"length\":128,\"scale\":128},{\"columnNumber\":1,\"columnName\":\"OWNER_PATH\",\"columnTypeName\":\"VARCHAR\",\"length\":1000,\"scale\":1000},{\"columnNumber\":2,\"columnName\":\"PATH_LENGTH\",\"columnTypeName\":\"INTEGER\"}]}"
     },
     "output_type": "execute_result"
    }
   ],
   "source": [
    "SELECT \n",
    "    DB_NAME\n",
    "    ,CAST(OWNER_PATH AS VARCHAR(1000)) AS OWNER_PATH\n",
    "    ,PATH_LENGTH + 1 AS PATH_LENGTH\n",
    "FROM NPATH(\n",
    "    ON (\n",
    "        SELECT * \n",
    "        FROM DATABASE_HIREARCHY\n",
    "    )\n",
    "    PARTITION BY DB_NODE\n",
    "    ORDER BY LVL DESC\n",
    "    USING\n",
    "        MODE(NONOVERLAPPING)\n",
    "        SYMBOLS(TRUE AS A)\n",
    "        PATTERN('A*')\n",
    "        RESULT(\n",
    "            FIRST(DB_NODE OF A) AS DB_NAME\n",
    "            ,ACCUMULATE(DB_OWNER OF A) AS OWNER_PATH\n",
    "            ,COUNT(* OF A) AS PATH_LENGTH\n",
    "        )\n",
    ") AS X\n",
    "ORDER BY PATH_LENGTH DESC;"
   ]
  },
  {
   "cell_type": "markdown",
   "metadata": {},
   "source": [
    "## Wrapping It Up\n",
    "\n",
    "Now that we've accomplished each piece, we'll wrap this up in a parameterized stored procedure. This will take a a database name as input and return a single row with that name, ownership path, and path length.\n",
    "\n",
    "_In the current version of this Jupyter Kernal we cannot build or call stored procedures. You can use this code in your second favorite SQL editor for ease of finding databases :)_"
   ]
  },
  {
   "cell_type": "code",
   "execution_count": 15,
   "metadata": {},
   "outputs": [
    {
     "ename": "ERROR",
     "evalue": "Unable to run SQL: Unable to run SQL query: Database reported error:3706:Syntax error: Invalid  SQL Statement.",
     "output_type": "error",
     "traceback": [
      "Unable to run SQL: Unable to run SQL query: Database reported error:3706:Syntax error: Invalid  SQL Statement."
     ]
    }
   ],
   "source": [
    "REPLACE PROCEDURE MT_DB_LKUP (IN DB_NAME VARCHAR(4000))\n",
    "DYNAMIC RESULT SETS 1\n",
    "BEGIN\n",
    "\n",
    "    --VARIABLES WE USE IN THIS PROCEDURE\n",
    "    DECLARE statement1_str VARCHAR(500);\n",
    "    DECLARE result_set CURSOR WITH RETURN ONLY FOR stmt1;\n",
    "\n",
    "    --CREATE RECURSIVE VIEW THAT WILL BE USED IN NPATH\n",
    "    --ONLY ON THE DB WE CARE ABOUT\n",
    "    REPLACE RECURSIVE VIEW DATABASE_HIREARCHY (CHILD,DATABASENAME,OWNERNAME,ORDR) AS (\n",
    "\n",
    "        --Start at each DB\n",
    "        SELECT\n",
    "            TRANSLATE(DB.DATABASENAME USING UNICODE_TO_LATIN) AS CHILD\n",
    "            ,TRANSLATE(DB.DATABASENAME USING UNICODE_TO_LATIN) AS DATABASENAME\n",
    "            ,TRANSLATE(DB.OWNERNAME USING UNICODE_TO_LATIN) AS OWNERNAME\n",
    "            , 1 AS ORDR\n",
    "        FROM DBC.DATABASESV AS DB\n",
    "\n",
    "        UNION ALL\n",
    "\n",
    "        --Recursive on DB owner\n",
    "        SELECT\n",
    "            DH.CHILD AS CHILD\n",
    "            ,DH.OWNERNAME\n",
    "            ,TRANSLATE(DB.OWNERNAME USING UNICODE_TO_LATIN) AS OWNERNAME\n",
    "            ,DH.ORDR + 1\n",
    "        FROM DATABASE_HIREARCHY AS DH\n",
    "        INNER JOIN DBC.DATABASESV AS DB\n",
    "            ON DH.OWNERNAME = DB.DATABASENAME\n",
    "        WHERE DB.DATABASENAME <> DB.OWNERNAME --Root Case, stop if DB owns itself\n",
    "\n",
    "    ) ;\n",
    "                                                 \n",
    "    --COMMIT THE VIEW SO WE CAN SELCT FROM IT\n",
    "    COMMIT WORK;\n",
    "\n",
    "    --Using parameter in the where clause of the on clause\n",
    "    SET statement1_str = \n",
    "\n",
    "        'SELECT \n",
    "            DATABASENAME\n",
    "            ,CAST(HIERARCHY AS VARCHAR(1000)) AS HIERARCHY\n",
    "            ,PATH_LENGTH + 1 AS PATH_LENGTH\n",
    "        FROM NPATH(\n",
    "            ON (\n",
    "\n",
    "                SELECT * \n",
    "                FROM DATABASE_HIREARCHY\n",
    "                WHERE CHILD = ?\n",
    "                                                 \n",
    "            )\n",
    "            PARTITION BY CHILD\n",
    "            ORDER BY ORDR DESC\n",
    "            USING\n",
    "                MODE(NONOVERLAPPING)\n",
    "                SYMBOLS(TRUE AS A)\n",
    "                PATTERN(''A*'')\n",
    "                RESULT(\n",
    "                    FIRST(CHILD OF A) AS DATABASENAME\n",
    "                    ,ACCUMULATE(OWNERNAME OF A) AS HIERARCHY\n",
    "                    ,COUNT(* OF A) AS PATH_LENGTH\n",
    "                )\n",
    "        ) AS X;';\n",
    "\n",
    "\n",
    "    --SET UP AND RUN OUR NPATH QUERY\n",
    "    PREPARE stmt1 FROM statement1_str;\n",
    "    OPEN result_set USING DB_NAME;\n",
    "    DEALLOCATE PREPARE stmt1;\n",
    "\n",
    "    --REMOVE VIEW\n",
    "    --We don't need it any more\n",
    "    DROP VIEW DATABASE_HIREARCHY;\n",
    "\n",
    "END;\n"
   ]
  },
  {
   "cell_type": "code",
   "execution_count": 17,
   "metadata": {},
   "outputs": [
    {
     "ename": "ERROR",
     "evalue": "No active connection",
     "output_type": "error",
     "traceback": [
      "No active connection"
     ]
    }
   ],
   "source": [
    "CALL MT_DB_LKUP('MT_TEST2');"
   ]
  },
  {
   "cell_type": "markdown",
   "metadata": {},
   "source": [
    "## Disconnect from the Database"
   ]
  },
  {
   "cell_type": "code",
   "execution_count": 16,
   "metadata": {},
   "outputs": [
    {
     "name": "stdout",
     "output_type": "stream",
     "text": [
      "Success: 'vantage19085' disconnected"
     ]
    }
   ],
   "source": [
    "%disconnect vantage19085"
   ]
  },
  {
   "cell_type": "code",
   "execution_count": null,
   "metadata": {},
   "outputs": [],
   "source": []
  }
 ],
 "metadata": {
  "kernelspec": {
   "display_name": "Teradata SQL",
   "language": "Teradata SQL",
   "name": "teradatasql"
  },
  "language_info": {
   "codemirror_mode": "Teradata SQL",
   "file_extension": ".tdrs",
   "mimetype": "application/vnd.teradata.resultset",
   "name": "Teradata SQL",
   "nbconvert_exporter": "",
   "pygments_lexer": "",
   "version": "16.20"
  }
 },
 "nbformat": 4,
 "nbformat_minor": 2
}
