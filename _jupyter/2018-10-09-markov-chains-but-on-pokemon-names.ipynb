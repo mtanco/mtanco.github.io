{
 "cells": [
  {
   "cell_type": "markdown",
   "metadata": {},
   "source": [
    "### Import Needed Libraries "
   ]
  },
  {
   "cell_type": "code",
   "execution_count": 1,
   "metadata": {
    "collapsed": true
   },
   "outputs": [],
   "source": [
    "import numpy as np\n",
    "import pandas as pd\n",
    "from sklearn.metrics import classification_report,confusion_matrix\n",
    "\n",
    "%matplotlib inline"
   ]
  },
  {
   "cell_type": "markdown",
   "metadata": {},
   "source": [
    "### Load Pokémon Names Data\n",
    "\n",
    "In the later generations we get \"mega\" evolutions, for this reason we want to only keep the default Pokémon"
   ]
  },
  {
   "cell_type": "code",
   "execution_count": 2,
   "metadata": {},
   "outputs": [
    {
     "data": {
      "text/html": [
       "<div>\n",
       "<style scoped>\n",
       "    .dataframe tbody tr th:only-of-type {\n",
       "        vertical-align: middle;\n",
       "    }\n",
       "\n",
       "    .dataframe tbody tr th {\n",
       "        vertical-align: top;\n",
       "    }\n",
       "\n",
       "    .dataframe thead th {\n",
       "        text-align: right;\n",
       "    }\n",
       "</style>\n",
       "<table border=\"1\" class=\"dataframe\">\n",
       "  <thead>\n",
       "    <tr style=\"text-align: right;\">\n",
       "      <th></th>\n",
       "      <th>identifier</th>\n",
       "      <th>species_id</th>\n",
       "      <th>height</th>\n",
       "      <th>weight</th>\n",
       "      <th>base_experience</th>\n",
       "      <th>order</th>\n",
       "      <th>is_default</th>\n",
       "    </tr>\n",
       "    <tr>\n",
       "      <th>id</th>\n",
       "      <th></th>\n",
       "      <th></th>\n",
       "      <th></th>\n",
       "      <th></th>\n",
       "      <th></th>\n",
       "      <th></th>\n",
       "      <th></th>\n",
       "    </tr>\n",
       "  </thead>\n",
       "  <tbody>\n",
       "    <tr>\n",
       "      <th>1</th>\n",
       "      <td>bulbasaur</td>\n",
       "      <td>1</td>\n",
       "      <td>7</td>\n",
       "      <td>69</td>\n",
       "      <td>64</td>\n",
       "      <td>1</td>\n",
       "      <td>1</td>\n",
       "    </tr>\n",
       "    <tr>\n",
       "      <th>2</th>\n",
       "      <td>ivysaur</td>\n",
       "      <td>2</td>\n",
       "      <td>10</td>\n",
       "      <td>130</td>\n",
       "      <td>142</td>\n",
       "      <td>2</td>\n",
       "      <td>1</td>\n",
       "    </tr>\n",
       "    <tr>\n",
       "      <th>3</th>\n",
       "      <td>venusaur</td>\n",
       "      <td>3</td>\n",
       "      <td>20</td>\n",
       "      <td>1000</td>\n",
       "      <td>236</td>\n",
       "      <td>3</td>\n",
       "      <td>1</td>\n",
       "    </tr>\n",
       "    <tr>\n",
       "      <th>4</th>\n",
       "      <td>charmander</td>\n",
       "      <td>4</td>\n",
       "      <td>6</td>\n",
       "      <td>85</td>\n",
       "      <td>62</td>\n",
       "      <td>5</td>\n",
       "      <td>1</td>\n",
       "    </tr>\n",
       "    <tr>\n",
       "      <th>5</th>\n",
       "      <td>charmeleon</td>\n",
       "      <td>5</td>\n",
       "      <td>11</td>\n",
       "      <td>190</td>\n",
       "      <td>142</td>\n",
       "      <td>6</td>\n",
       "      <td>1</td>\n",
       "    </tr>\n",
       "  </tbody>\n",
       "</table>\n",
       "</div>"
      ],
      "text/plain": [
       "    identifier  species_id  height  weight  base_experience  order  is_default\n",
       "id                                                                            \n",
       "1    bulbasaur           1       7      69               64      1           1\n",
       "2      ivysaur           2      10     130              142      2           1\n",
       "3     venusaur           3      20    1000              236      3           1\n",
       "4   charmander           4       6      85               62      5           1\n",
       "5   charmeleon           5      11     190              142      6           1"
      ]
     },
     "execution_count": 2,
     "metadata": {},
     "output_type": "execute_result"
    }
   ],
   "source": [
    "url = 'https://raw.githubusercontent.com/veekun/pokedex/master/pokedex/data/csv/pokemon.csv'\n",
    "all_pokemon = pd.read_csv(url, index_col = 0)\n",
    "\n",
    "all_pokemon = all_pokemon[all_pokemon.is_default == 1]\n",
    "\n",
    "all_pokemon.head(5)"
   ]
  },
  {
   "cell_type": "markdown",
   "metadata": {},
   "source": [
    "### Assign Generations to Each Pokémon"
   ]
  },
  {
   "cell_type": "code",
   "execution_count": 3,
   "metadata": {},
   "outputs": [
    {
     "data": {
      "text/html": [
       "<div>\n",
       "<style scoped>\n",
       "    .dataframe tbody tr th:only-of-type {\n",
       "        vertical-align: middle;\n",
       "    }\n",
       "\n",
       "    .dataframe tbody tr th {\n",
       "        vertical-align: top;\n",
       "    }\n",
       "\n",
       "    .dataframe thead th {\n",
       "        text-align: right;\n",
       "    }\n",
       "</style>\n",
       "<table border=\"1\" class=\"dataframe\">\n",
       "  <thead>\n",
       "    <tr style=\"text-align: right;\">\n",
       "      <th></th>\n",
       "      <th>identifier</th>\n",
       "      <th>species_id</th>\n",
       "      <th>height</th>\n",
       "      <th>weight</th>\n",
       "      <th>base_experience</th>\n",
       "      <th>order</th>\n",
       "      <th>is_default</th>\n",
       "      <th>generation</th>\n",
       "    </tr>\n",
       "    <tr>\n",
       "      <th>id</th>\n",
       "      <th></th>\n",
       "      <th></th>\n",
       "      <th></th>\n",
       "      <th></th>\n",
       "      <th></th>\n",
       "      <th></th>\n",
       "      <th></th>\n",
       "      <th></th>\n",
       "    </tr>\n",
       "  </thead>\n",
       "  <tbody>\n",
       "    <tr>\n",
       "      <th>1</th>\n",
       "      <td>bulbasaur</td>\n",
       "      <td>1</td>\n",
       "      <td>7</td>\n",
       "      <td>69</td>\n",
       "      <td>64</td>\n",
       "      <td>1</td>\n",
       "      <td>1</td>\n",
       "      <td>Generation I</td>\n",
       "    </tr>\n",
       "    <tr>\n",
       "      <th>2</th>\n",
       "      <td>ivysaur</td>\n",
       "      <td>2</td>\n",
       "      <td>10</td>\n",
       "      <td>130</td>\n",
       "      <td>142</td>\n",
       "      <td>2</td>\n",
       "      <td>1</td>\n",
       "      <td>Generation I</td>\n",
       "    </tr>\n",
       "    <tr>\n",
       "      <th>3</th>\n",
       "      <td>venusaur</td>\n",
       "      <td>3</td>\n",
       "      <td>20</td>\n",
       "      <td>1000</td>\n",
       "      <td>236</td>\n",
       "      <td>3</td>\n",
       "      <td>1</td>\n",
       "      <td>Generation I</td>\n",
       "    </tr>\n",
       "    <tr>\n",
       "      <th>4</th>\n",
       "      <td>charmander</td>\n",
       "      <td>4</td>\n",
       "      <td>6</td>\n",
       "      <td>85</td>\n",
       "      <td>62</td>\n",
       "      <td>5</td>\n",
       "      <td>1</td>\n",
       "      <td>Generation I</td>\n",
       "    </tr>\n",
       "    <tr>\n",
       "      <th>5</th>\n",
       "      <td>charmeleon</td>\n",
       "      <td>5</td>\n",
       "      <td>11</td>\n",
       "      <td>190</td>\n",
       "      <td>142</td>\n",
       "      <td>6</td>\n",
       "      <td>1</td>\n",
       "      <td>Generation I</td>\n",
       "    </tr>\n",
       "  </tbody>\n",
       "</table>\n",
       "</div>"
      ],
      "text/plain": [
       "    identifier  species_id  height  weight  base_experience  order  \\\n",
       "id                                                                   \n",
       "1    bulbasaur           1       7      69               64      1   \n",
       "2      ivysaur           2      10     130              142      2   \n",
       "3     venusaur           3      20    1000              236      3   \n",
       "4   charmander           4       6      85               62      5   \n",
       "5   charmeleon           5      11     190              142      6   \n",
       "\n",
       "    is_default    generation  \n",
       "id                            \n",
       "1            1  Generation I  \n",
       "2            1  Generation I  \n",
       "3            1  Generation I  \n",
       "4            1  Generation I  \n",
       "5            1  Generation I  "
      ]
     },
     "execution_count": 3,
     "metadata": {},
     "output_type": "execute_result"
    }
   ],
   "source": [
    "def assign_generation(row):\n",
    "    if 0 < row['species_id'] <= 151:\n",
    "        return 'Generation I'\n",
    "    elif 151 < row['species_id'] <= 251:\n",
    "        return 'Generation II'\n",
    "    elif 251 < row['species_id'] <= 386:\n",
    "        return 'Generation III' \n",
    "    elif 386 < row['species_id'] <= 493:\n",
    "        return 'Generation IV' \n",
    "    elif 493 < row['species_id'] <= 649:\n",
    "        return 'Generation V' \n",
    "    elif 649 < row['species_id'] <= 721:\n",
    "        return 'Generation VI' \n",
    "    elif 721 < row['species_id'] <= 807:\n",
    "        return 'Generation VII' \n",
    "    else:\n",
    "        return 'other'\n",
    "\n",
    "all_pokemon['generation'] = all_pokemon.apply(assign_generation, axis=1)\n",
    "\n",
    "all_pokemon.head(5)"
   ]
  },
  {
   "cell_type": "markdown",
   "metadata": {},
   "source": [
    "## Build a Markov Chain\n",
    "\n",
    "This is based off of https://www.kaggle.com/naldershof/tweet-like-the-president-simple-markov\n",
    "We build a function that takes a series of strings and builds a dictionary of each letter and all letters that follow it - including the end of the word. While looping through the data, we also collect a list of starting letters and get the longest and shortest name."
   ]
  },
  {
   "cell_type": "code",
   "execution_count": 4,
   "metadata": {
    "collapsed": true
   },
   "outputs": [],
   "source": [
    "def build_mc(corpus):\n",
    "    \n",
    "    markov_dict = {'<EOT>':[]}\n",
    "    starting_letters = []\n",
    "    max_length = 0\n",
    "    min_length = 1000\n",
    "    \n",
    "    for word in corpus:\n",
    "        tok = list(word) #make character list [l,i,k,e, ,t,h,i,s]\n",
    "        letter_count = len(tok) #length of word\n",
    "        \n",
    "        #storing the max & min values of names\n",
    "        if(letter_count > max_length):\n",
    "            max_length = letter_count\n",
    "        if(letter_count < min_length):\n",
    "            min_length = letter_count            \n",
    "        \n",
    "        for index, letter in enumerate(tok):\n",
    "            \n",
    "            #add letter if we haven't yet\n",
    "            if letter not in markov_dict.keys():\n",
    "                markov_dict[letter] = []\n",
    "            \n",
    "            #add first letters to start list\n",
    "            if index == 0:\n",
    "                starting_letters.append(letter)    \n",
    "            \n",
    "            #add end of text to last letters of names\n",
    "            if index == letter_count - 1:\n",
    "                markov_dict[letter].append(\"<EOT>\")\n",
    "            #add next letter to non-last letters\n",
    "            else:\n",
    "                markov_dict[letter].append(tok[index+1])\n",
    "                \n",
    "    return markov_dict, starting_letters, max_length, min_length"
   ]
  },
  {
   "cell_type": "markdown",
   "metadata": {},
   "source": [
    "## Build Markov Chains for each Generation of Pokémon\n",
    "\n",
    "For each generation we build a seperate model so that we can understand the differences"
   ]
  },
  {
   "cell_type": "code",
   "execution_count": 6,
   "metadata": {
    "collapsed": true
   },
   "outputs": [],
   "source": [
    "#hard code for each generation\n",
    "markov_dict_1, starting_letters_1, max_length_1, min_length_1 = build_mc(all_pokemon[all_pokemon.generation == 'Generation I']['identifier'])\n",
    "markov_dict_2, starting_letters_2, max_length_2, min_length_2 = build_mc(all_pokemon[all_pokemon.generation == 'Generation II']['identifier'])\n",
    "markov_dict_3, starting_letters_3, max_length_3, min_length_3 = build_mc(all_pokemon[all_pokemon.generation == 'Generation III']['identifier'])\n",
    "markov_dict_4, starting_letters_4, max_length_4, min_length_4 = build_mc(all_pokemon[all_pokemon.generation == 'Generation IV']['identifier'])\n",
    "markov_dict_5, starting_letters_5, max_length_5, min_length_5 = build_mc(all_pokemon[all_pokemon.generation == 'Generation V']['identifier'])\n",
    "markov_dict_6, starting_letters_6, max_length_6, min_length_6 = build_mc(all_pokemon[all_pokemon.generation == 'Generation VI']['identifier'])\n",
    "markov_dict_7, starting_letters_7, max_length_7, min_length_7 = build_mc(all_pokemon[all_pokemon.generation == 'Generation VII']['identifier'])\n"
   ]
  },
  {
   "cell_type": "code",
   "execution_count": 9,
   "metadata": {},
   "outputs": [
    {
     "name": "stdout",
     "output_type": "stream",
     "text": [
      "['<EOT>', '<EOT>', 'e', 'e', '<EOT>', '<EOT>']\n",
      "['a', '<EOT>']\n",
      "['<EOT>', 'p', 'y']\n",
      "['<EOT>', 'i', 'r', '<EOT>', 'i', 'i']\n",
      "['c', 'e', 'e', 'u', 'o']\n",
      "['e', '<EOT>', '<EOT>', 'e']\n",
      "['<EOT>', 'a', '<EOT>', 'i', 'u']\n"
     ]
    }
   ],
   "source": [
    "# See what follows an x in each generation\n",
    "print(markov_dict_1['x'])\n",
    "print(markov_dict_2['x'])\n",
    "print(markov_dict_3['x'])\n",
    "print(markov_dict_4['x'])\n",
    "print(markov_dict_5['x'])\n",
    "print(markov_dict_6['x'])\n",
    "print(markov_dict_7['x'])"
   ]
  },
  {
   "cell_type": "markdown",
   "metadata": {},
   "source": [
    "## Generating New Pokémon\n",
    "\n",
    "We can do random walks on each Markov Chain to invent some new Pokémon - notice the differences in generations, for example we have a lot more dashes in our last generation. \n",
    "\n",
    "My personal favorite is telelucry :)"
   ]
  },
  {
   "cell_type": "code",
   "execution_count": 10,
   "metadata": {
    "collapsed": true
   },
   "outputs": [],
   "source": [
    "def new_pokemon_name(starting_letter, mc, max_length, min_length):\n",
    "    \n",
    "    new_name = starting_letter\n",
    "    current_letter = starting_letter\n",
    "    \n",
    "    while len(new_name) < max_length:        \n",
    "        next_letter = np.random.choice(mc[current_letter])\n",
    "        \n",
    "        #names have to be a least a certain length\n",
    "        while( (len(new_name) < min_length) & (next_letter == '<EOT>') ):\n",
    "            next_letter = np.random.choice(mc[current_letter])\n",
    "        \n",
    "        if next_letter == '<EOT>':\n",
    "            return new_name\n",
    "        \n",
    "        new_name = new_name + next_letter\n",
    "        current_letter = next_letter\n",
    "        \n",
    "    return new_name"
   ]
  },
  {
   "cell_type": "code",
   "execution_count": 15,
   "metadata": {},
   "outputs": [
    {
     "name": "stdout",
     "output_type": "stream",
     "text": [
      "Generation I\n",
      "buzarolbba\n",
      "dable\n",
      "sag\n",
      "kadugerfau\n",
      "chelerage\n",
      "\n",
      "Generation II\n",
      "pipel\n",
      "unelu\n",
      "traybbawib\n",
      "hominury\n",
      "hings\n",
      "\n",
      "Generation III\n",
      "sclegoxy\n",
      "comush\n",
      "bearbecelcoud\n",
      "bynamirnhitif\n",
      "blothetean\n",
      "\n",
      "Generation IV\n",
      "lirigima-lapak\n",
      "powdominoropi\n",
      "telelucry\n",
      "binoariowdorkr\n",
      "chinon\n",
      "\n",
      "Generation V\n",
      "dektya\n",
      "serdrm\n",
      "vanyetoguandomisshog\n",
      "vinsk\n",
      "mans\n",
      "\n",
      "Generation VI\n",
      "ddran\n",
      "skitzesper\n",
      "mpugoo\n",
      "annaty\n",
      "atedeooninkivabi\n",
      "\n",
      "Generation VII\n",
      "leexuraquzzmuf\n",
      "c-olertule\n",
      "diangaru\n",
      "mileravinitaqu-lu\n",
      "pleconnavosorshab\n"
     ]
    }
   ],
   "source": [
    "print('Generation I')\n",
    "for x in range(0,5):\n",
    "    print(new_pokemon_name(np.random.choice(starting_letters_1), markov_dict_1, max_length_1,min_length_1))\n",
    "print('\\nGeneration II')\n",
    "for x in range(0,5):\n",
    "    print(new_pokemon_name(np.random.choice(starting_letters_2), markov_dict_2, max_length_2,min_length_2))\n",
    "print('\\nGeneration III')\n",
    "for x in range(0,5):\n",
    "    print(new_pokemon_name(np.random.choice(starting_letters_3), markov_dict_3, max_length_3,min_length_3))\n",
    "print('\\nGeneration IV')\n",
    "for x in range(0,5):\n",
    "    print(new_pokemon_name(np.random.choice(starting_letters_4), markov_dict_4, max_length_4,min_length_4))\n",
    "print('\\nGeneration V')\n",
    "for x in range(0,5):\n",
    "    print(new_pokemon_name(np.random.choice(starting_letters_5), markov_dict_5, max_length_5,min_length_5))\n",
    "print('\\nGeneration VI')\n",
    "for x in range(0,5):\n",
    "    print(new_pokemon_name(np.random.choice(starting_letters_6), markov_dict_6, max_length_6,min_length_6))\n",
    "print('\\nGeneration VII')\n",
    "for x in range(0,5):\n",
    "    print(new_pokemon_name(np.random.choice(starting_letters_7), markov_dict_7, max_length_7,min_length_7))"
   ]
  },
  {
   "cell_type": "markdown",
   "metadata": {},
   "source": [
    "## Predict the Generation of Pokémon\n",
    "\n",
    "Now that we've invented some new Pokés we're going to predict the generation of a Pokémon based just on it's name. Because each model is built on a tiny dataset (80 to 160 names) we are __absolutely going to cheat__ and use models built on the full data set. In the real work we would train test split when checking to see if our models are working or not.\n",
    "\n",
    "We calculate the probability of one letter following another by going to the key, counting the number of times the next value happens, and dividing this by the total letters. This gives us a precent of the time that one letter follows the next. We then multiply the probabilities together and also multiply this by the probability of the starting letter. \n",
    "\n",
    "After getting the likelihood of a word in every model, we choose the most likely as our prediction.\n",
    "\n",
    "If the word is impossible in every model (for example: 666) it will return \"No Prediction\"."
   ]
  },
  {
   "cell_type": "code",
   "execution_count": 16,
   "metadata": {
    "collapsed": true
   },
   "outputs": [],
   "source": [
    "def generation_probability(word,starting_letters,markov_dict):\n",
    "    tok_word = list(word)\n",
    "    letter_count = len(tok_word) #length of word\n",
    "    probability = 1 \n",
    "\n",
    "    for index, letter in enumerate(tok_word):\n",
    "        if(index == 0):\n",
    "            probability = probability * starting_letters.count('m') / starting_letters.__len__()  \n",
    "            \n",
    "        if index == letter_count - 1:\n",
    "            return probability\n",
    "        else:\n",
    "            probability = probability * markov_dict[letter].count(tok_word[index+1]) / markov_dict[letter].__len__()"
   ]
  },
  {
   "cell_type": "code",
   "execution_count": 17,
   "metadata": {
    "collapsed": true
   },
   "outputs": [],
   "source": [
    "def predicted_generation(row):\n",
    "    \n",
    "    probabilities = pd.concat([\n",
    "        pd.DataFrame([[row['identifier'],'Generation I',generation_probability(row['identifier'],starting_letters_1,markov_dict_1)]]\n",
    "                    ,columns = ['identifier','generation','probability'])\n",
    "        ,pd.DataFrame([[row['identifier'],'Generation II',generation_probability(row['identifier'],starting_letters_2,markov_dict_2)]]\n",
    "                    ,columns = ['identifier','generation','probability'])\n",
    "        ,pd.DataFrame([[row['identifier'],'Generation III',generation_probability(row['identifier'],starting_letters_3,markov_dict_3)]]\n",
    "                    ,columns = ['identifier','generation','probability'])\n",
    "        ,pd.DataFrame([[row['identifier'],'Generation IV',generation_probability(row['identifier'],starting_letters_4,markov_dict_4)]]\n",
    "                    ,columns = ['identifier','generation','probability'])\n",
    "        ,pd.DataFrame([[row['identifier'],'Generation V',generation_probability(row['identifier'],starting_letters_5,markov_dict_5)]]\n",
    "                    ,columns = ['identifier','generation','probability'])\n",
    "        ,pd.DataFrame([[row['identifier'],'Generation VI',generation_probability(row['identifier'],starting_letters_6,markov_dict_6)]]\n",
    "                    ,columns = ['identifier','generation','probability'])\n",
    "        ,pd.DataFrame([[row['identifier'],'Generation VII',generation_probability(row['identifier'],starting_letters_7,markov_dict_7)]]\n",
    "                    ,columns = ['identifier','generation','probability'])\n",
    "    ])\n",
    "    \n",
    "    highest_prob = probabilities['probability'].max()\n",
    "    \n",
    "    if(highest_prob == 0):\n",
    "        return 'No Prediction'\n",
    "#         return np.random.choice(['Generation I','Generation II','Generation III'\n",
    "#                  ,'Generation IV', 'Generation V', 'Generation VI','Generation VII'])\n",
    "    \n",
    "    return probabilities[probabilities.probability == highest_prob]['generation']\n",
    "    "
   ]
  },
  {
   "cell_type": "code",
   "execution_count": 18,
   "metadata": {
    "collapsed": true
   },
   "outputs": [],
   "source": [
    "all_pokemon['prediction'] = all_pokemon.apply(predicted_generation, axis=1)"
   ]
  },
  {
   "cell_type": "markdown",
   "metadata": {},
   "source": [
    "#### We've Got Impressive Results!\n",
    "\n",
    "If we were to just guess the generation randomly, we would expect accuracies of ~1/7 or 14%. We know that we are giving the models a big advantage by training and testing on the same data. Even so, our prediction results are much much better than 14%. It's tempting to then claim that the names of Pokémon really did change from season to season, we proved it! And yes, there were some changes like loner names and more dashes. However, our training data sets are so tiny that we definitely just have over fitted models :) "
   ]
  },
  {
   "cell_type": "code",
   "execution_count": 19,
   "metadata": {},
   "outputs": [
    {
     "name": "stdout",
     "output_type": "stream",
     "text": [
      "                precision    recall  f1-score   support\n",
      "\n",
      "  Generation I       0.69      0.72      0.70       151\n",
      " Generation II       0.67      0.64      0.65       100\n",
      "Generation III       0.77      0.70      0.73       135\n",
      " Generation IV       0.59      0.80      0.68       107\n",
      "  Generation V       0.88      0.59      0.71       156\n",
      " Generation VI       0.80      0.74      0.77        72\n",
      "Generation VII       0.59      0.79      0.67        86\n",
      "\n",
      "   avg / total       0.72      0.70      0.70       807\n",
      "\n"
     ]
    }
   ],
   "source": [
    "print(classification_report(all_pokemon.generation,all_pokemon.prediction))"
   ]
  },
  {
   "cell_type": "code",
   "execution_count": 20,
   "metadata": {},
   "outputs": [
    {
     "name": "stdout",
     "output_type": "stream",
     "text": [
      "[[108   9   6  14   2   2  10]\n",
      " [  8  64   4  13   2   2   7]\n",
      " [  8   7  94  14   3   3   6]\n",
      " [  5   5   2  86   0   1   8]\n",
      " [ 18   4  11  10  92   4  17]\n",
      " [  5   4   4   4   2  53   0]\n",
      " [  5   3   1   5   3   1  68]]\n"
     ]
    }
   ],
   "source": [
    "print(confusion_matrix(all_pokemon.generation,all_pokemon.prediction))"
   ]
  },
  {
   "cell_type": "markdown",
   "metadata": {},
   "source": [
    "## What Generation of Pokémon Am I ???\n",
    "\n",
    "Finally, let's take some non-pokemon words and see what generation they are most likely to be from"
   ]
  },
  {
   "cell_type": "code",
   "execution_count": 21,
   "metadata": {
    "collapsed": true
   },
   "outputs": [],
   "source": [
    "mt = pd.DataFrame(['michelle','tanco','hunter','teradata','xx'], columns =['identifier'])"
   ]
  },
  {
   "cell_type": "code",
   "execution_count": 22,
   "metadata": {
    "collapsed": true
   },
   "outputs": [],
   "source": [
    "mt['generation'] = mt.apply(predicted_generation, axis=1)"
   ]
  },
  {
   "cell_type": "code",
   "execution_count": 23,
   "metadata": {},
   "outputs": [
    {
     "data": {
      "text/html": [
       "<div>\n",
       "<style scoped>\n",
       "    .dataframe tbody tr th:only-of-type {\n",
       "        vertical-align: middle;\n",
       "    }\n",
       "\n",
       "    .dataframe tbody tr th {\n",
       "        vertical-align: top;\n",
       "    }\n",
       "\n",
       "    .dataframe thead th {\n",
       "        text-align: right;\n",
       "    }\n",
       "</style>\n",
       "<table border=\"1\" class=\"dataframe\">\n",
       "  <thead>\n",
       "    <tr style=\"text-align: right;\">\n",
       "      <th></th>\n",
       "      <th>identifier</th>\n",
       "      <th>generation</th>\n",
       "    </tr>\n",
       "  </thead>\n",
       "  <tbody>\n",
       "    <tr>\n",
       "      <th>0</th>\n",
       "      <td>michelle</td>\n",
       "      <td>Generation IV</td>\n",
       "    </tr>\n",
       "    <tr>\n",
       "      <th>1</th>\n",
       "      <td>tanco</td>\n",
       "      <td>Generation VII</td>\n",
       "    </tr>\n",
       "    <tr>\n",
       "      <th>2</th>\n",
       "      <td>hunter</td>\n",
       "      <td>Generation II</td>\n",
       "    </tr>\n",
       "    <tr>\n",
       "      <th>3</th>\n",
       "      <td>teradata</td>\n",
       "      <td>Generation I</td>\n",
       "    </tr>\n",
       "    <tr>\n",
       "      <th>4</th>\n",
       "      <td>xx</td>\n",
       "      <td>No Prediction</td>\n",
       "    </tr>\n",
       "  </tbody>\n",
       "</table>\n",
       "</div>"
      ],
      "text/plain": [
       "  identifier      generation\n",
       "0   michelle   Generation IV\n",
       "1      tanco  Generation VII\n",
       "2     hunter   Generation II\n",
       "3   teradata    Generation I\n",
       "4         xx   No Prediction"
      ]
     },
     "execution_count": 23,
     "metadata": {},
     "output_type": "execute_result"
    }
   ],
   "source": [
    "mt"
   ]
  }
 ],
 "metadata": {
  "kernelspec": {
   "display_name": "Python 3",
   "language": "python",
   "name": "python3"
  },
  "language_info": {
   "codemirror_mode": {
    "name": "ipython",
    "version": 3
   },
   "file_extension": ".py",
   "mimetype": "text/x-python",
   "name": "python",
   "nbconvert_exporter": "python",
   "pygments_lexer": "ipython3",
   "version": "3.6.3"
  }
 },
 "nbformat": 4,
 "nbformat_minor": 2
}
