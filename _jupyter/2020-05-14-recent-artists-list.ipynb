{
 "cells": [
  {
   "cell_type": "markdown",
   "metadata": {
    "toc": true
   },
   "source": [
    "<h1>Table of Contents<span class=\"tocSkip\"></span></h1>\n",
    "<div class=\"toc\"><ul class=\"toc-item\"><li><span><a href=\"#Getting-Started\" data-toc-modified-id=\"Getting-Started-1\"><span class=\"toc-item-num\">1&nbsp;&nbsp;</span>Getting Started</a></span></li><li><span><a href=\"#Autorization-Token\" data-toc-modified-id=\"Autorization-Token-2\"><span class=\"toc-item-num\">2&nbsp;&nbsp;</span>Autorization Token</a></span></li><li><span><a href=\"#User-Play-History\" data-toc-modified-id=\"User-Play-History-3\"><span class=\"toc-item-num\">3&nbsp;&nbsp;</span>User Play History</a></span><ul class=\"toc-item\"><li><span><a href=\"#Last-5-Songs-I-Listened-To\" data-toc-modified-id=\"Last-5-Songs-I-Listened-To-3.1\"><span class=\"toc-item-num\">3.1&nbsp;&nbsp;</span>Last 5 Songs I Listened To</a></span></li><li><span><a href=\"#Last-Albums-I-Listened-To\" data-toc-modified-id=\"Last-Albums-I-Listened-To-3.2\"><span class=\"toc-item-num\">3.2&nbsp;&nbsp;</span>Last Albums I Listened To</a></span></li></ul></li><li><span><a href=\"#Create-Markdown-of-Recent-Artists-for-Blog\" data-toc-modified-id=\"Create-Markdown-of-Recent-Artists-for-Blog-4\"><span class=\"toc-item-num\">4&nbsp;&nbsp;</span>Create Markdown of Recent Artists for Blog</a></span></li><li><span><a href=\"#Final-Python-Script\" data-toc-modified-id=\"Final-Python-Script-5\"><span class=\"toc-item-num\">5&nbsp;&nbsp;</span>Final Python Script</a></span></li></ul></div>"
   ]
  },
  {
   "cell_type": "markdown",
   "metadata": {},
   "source": [
    "# Spotify Recently Played List!\n",
    "\n",
    "I want to create a dynamicly updated list of artists I've been listening to based on my recent Spotify play history. This blog post is a work in progress as I work on this project :) \n",
    "\n",
    "<h2>Table of Contents<span class=\"tocSkip\"></span></h2>\n",
    "<div class=\"toc\"><ul class=\"toc-item\"><li><span><a href=\"#Getting-Started\" data-toc-modified-id=\"Getting-Started-1\"><span class=\"toc-item-num\">1&nbsp;&nbsp;</span>Getting Started</a></span></li><li><span><a href=\"#Autorization-Token\" data-toc-modified-id=\"Autorization-Token-2\"><span class=\"toc-item-num\">2&nbsp;&nbsp;</span>Autorization Token</a></span></li><li><span><a href=\"#User-Play-History\" data-toc-modified-id=\"User-Play-History-3\"><span class=\"toc-item-num\">3&nbsp;&nbsp;</span>User Play History</a></span><ul class=\"toc-item\"><li><span><a href=\"#Last-5-Songs-I-Listened-To\" data-toc-modified-id=\"Last-5-Songs-I-Listened-To-3.1\"><span class=\"toc-item-num\">3.1&nbsp;&nbsp;</span>Last 5 Songs I Listened To</a></span></li><li><span><a href=\"#Last-Albums-I-Listened-To\" data-toc-modified-id=\"Last-Albums-I-Listened-To-3.2\"><span class=\"toc-item-num\">3.2&nbsp;&nbsp;</span>Last Albums I Listened To</a></span></li></ul></li><li><span><a href=\"#Create-Markdown-of-Recent-Artists-for-Blog\" data-toc-modified-id=\"Create-Markdown-of-Recent-Artists-for-Blog-4\"><span class=\"toc-item-num\">4&nbsp;&nbsp;</span>Create Markdown of Recent Artists for Blog</a></span></li></ul></div>"
   ]
  },
  {
   "cell_type": "code",
   "execution_count": 1,
   "metadata": {},
   "outputs": [],
   "source": [
    "from spotipy import util\n",
    "\n",
    "from spotipy.oauth2 import SpotifyClientCredentials\n",
    "from spotipy import Spotify\n",
    "\n",
    "import getpass\n",
    "\n",
    "import pandas as pd"
   ]
  },
  {
   "cell_type": "markdown",
   "metadata": {},
   "source": [
    "## Getting Started\n",
    "1. Create a Spotify Developers Account \n",
    "2. Createe a new Application to get a client key and client secret - I named my application \"Token Please\" as I'm not using it for anything other than credentials\n",
    "3. Installed the Spotipy package: `pip install spotipy`\n",
    "4. Saved our Application credentials to our bash profile: `SPOTIPY_CLIENT_ID` and `SPOTIPY_CLIENT_SECRET`\n",
    "\n"
   ]
  },
  {
   "cell_type": "markdown",
   "metadata": {},
   "source": [
    "## Autorization Token\n",
    "\n",
    "Obtain an authorization token that we can use with the python and web API:\n",
    "1. Get your userid by logging into Spotify, select the ... on your profile, click share, and then `copy spotify URI` \n",
    "2. Use the permissions we want as scope - ability to see what we've recently listened to\n",
    "3. Use any valid URL as the redict URI\n",
    "\n",
    "You will then be asked to log in to spotify (from a new webpage) and approve authorization. This will redirect you to a new webpage, copy this URL and paste in the text box below the `prompt_for_user_token` command which will then print your token."
   ]
  },
  {
   "cell_type": "code",
   "execution_count": null,
   "metadata": {},
   "outputs": [],
   "source": [
    "util.prompt_for_user_token(username=\"1238655357\",\n",
    "                           scope=\"user-read-recently-played\",\n",
    "                           redirect_uri='https://www.getpostman.com/oauth2/callback')"
   ]
  },
  {
   "cell_type": "code",
   "execution_count": 3,
   "metadata": {},
   "outputs": [
    {
     "name": "stdout",
     "output_type": "stream",
     "text": [
      "Enter Your Token:········\n"
     ]
    }
   ],
   "source": [
    "recent_play_token = getpass.getpass(\"Enter Your Token:\")"
   ]
  },
  {
   "cell_type": "markdown",
   "metadata": {},
   "source": [
    "## User Play History"
   ]
  },
  {
   "cell_type": "code",
   "execution_count": 4,
   "metadata": {},
   "outputs": [],
   "source": [
    "spotify = Spotify(auth=recent_play_token)"
   ]
  },
  {
   "cell_type": "markdown",
   "metadata": {},
   "source": [
    "### Last 5 Songs I Listened To"
   ]
  },
  {
   "cell_type": "code",
   "execution_count": 5,
   "metadata": {},
   "outputs": [
    {
     "data": {
      "text/html": [
       "<div>\n",
       "<style scoped>\n",
       "    .dataframe tbody tr th:only-of-type {\n",
       "        vertical-align: middle;\n",
       "    }\n",
       "\n",
       "    .dataframe tbody tr th {\n",
       "        vertical-align: top;\n",
       "    }\n",
       "\n",
       "    .dataframe thead th {\n",
       "        text-align: right;\n",
       "    }\n",
       "</style>\n",
       "<table border=\"1\" class=\"dataframe\">\n",
       "  <thead>\n",
       "    <tr style=\"text-align: right;\">\n",
       "      <th></th>\n",
       "      <th>track_name</th>\n",
       "      <th>artist_name</th>\n",
       "      <th>album_title</th>\n",
       "      <th>play_time</th>\n",
       "    </tr>\n",
       "  </thead>\n",
       "  <tbody>\n",
       "    <tr>\n",
       "      <th>0</th>\n",
       "      <td>Let's Get Known</td>\n",
       "      <td>The Unicorns</td>\n",
       "      <td>Who Will Cut Our Hair When We're Gone? (Remast...</td>\n",
       "      <td>2020-05-13 00:14:31.853000+00:00</td>\n",
       "    </tr>\n",
       "    <tr>\n",
       "      <th>1</th>\n",
       "      <td>Child Star</td>\n",
       "      <td>The Unicorns</td>\n",
       "      <td>Who Will Cut Our Hair When We're Gone? (Remast...</td>\n",
       "      <td>2020-05-11 22:36:04.881000+00:00</td>\n",
       "    </tr>\n",
       "    <tr>\n",
       "      <th>2</th>\n",
       "      <td>The Clap</td>\n",
       "      <td>The Unicorns</td>\n",
       "      <td>Who Will Cut Our Hair When We're Gone? (Remast...</td>\n",
       "      <td>2020-05-11 22:30:42.982000+00:00</td>\n",
       "    </tr>\n",
       "    <tr>\n",
       "      <th>3</th>\n",
       "      <td>Jellybones</td>\n",
       "      <td>The Unicorns</td>\n",
       "      <td>Who Will Cut Our Hair When We're Gone? (Remast...</td>\n",
       "      <td>2020-05-11 22:29:16.240000+00:00</td>\n",
       "    </tr>\n",
       "    <tr>\n",
       "      <th>4</th>\n",
       "      <td>Sea Ghost</td>\n",
       "      <td>The Unicorns</td>\n",
       "      <td>Who Will Cut Our Hair When We're Gone? (Remast...</td>\n",
       "      <td>2020-05-11 22:26:32.334000+00:00</td>\n",
       "    </tr>\n",
       "  </tbody>\n",
       "</table>\n",
       "</div>"
      ],
      "text/plain": [
       "        track_name   artist_name  \\\n",
       "0  Let's Get Known  The Unicorns   \n",
       "1       Child Star  The Unicorns   \n",
       "2         The Clap  The Unicorns   \n",
       "3       Jellybones  The Unicorns   \n",
       "4        Sea Ghost  The Unicorns   \n",
       "\n",
       "                                         album_title  \\\n",
       "0  Who Will Cut Our Hair When We're Gone? (Remast...   \n",
       "1  Who Will Cut Our Hair When We're Gone? (Remast...   \n",
       "2  Who Will Cut Our Hair When We're Gone? (Remast...   \n",
       "3  Who Will Cut Our Hair When We're Gone? (Remast...   \n",
       "4  Who Will Cut Our Hair When We're Gone? (Remast...   \n",
       "\n",
       "                         play_time  \n",
       "0 2020-05-13 00:14:31.853000+00:00  \n",
       "1 2020-05-11 22:36:04.881000+00:00  \n",
       "2 2020-05-11 22:30:42.982000+00:00  \n",
       "3 2020-05-11 22:29:16.240000+00:00  \n",
       "4 2020-05-11 22:26:32.334000+00:00  "
      ]
     },
     "execution_count": 5,
     "metadata": {},
     "output_type": "execute_result"
    }
   ],
   "source": [
    "# get dictionary of songs from recent listening\n",
    "last_songs_dict = spotify.current_user_recently_played(limit=5)['items']\n",
    "\n",
    "# create dataframe of key information about each song\n",
    "last_songs = pd.DataFrame()\n",
    "for s in last_songs_dict:\n",
    "    last_songs = last_songs.append(pd.DataFrame([[s['track']['name'], \n",
    "                                                  s['track']['artists'][0]['name'], \n",
    "                                                  s['track']['album']['name'],\n",
    "                                                  s['played_at']]]))\n",
    "\n",
    "last_songs = last_songs.reset_index(drop=True)\n",
    "last_songs.columns = [\"track_name\", \"artist_name\", \"album_title\", \"play_time\"]\n",
    "\n",
    "last_songs[\"play_time\"] = pd.to_datetime(last_songs[\"play_time\"])\n",
    "\n",
    "last_songs"
   ]
  },
  {
   "cell_type": "markdown",
   "metadata": {},
   "source": [
    "### Last Albums I Listened To\n",
    "This is names of albums from recent songs rather than a list of albumns I listened fully to"
   ]
  },
  {
   "cell_type": "code",
   "execution_count": 6,
   "metadata": {},
   "outputs": [
    {
     "data": {
      "text/html": [
       "<div>\n",
       "<style scoped>\n",
       "    .dataframe tbody tr th:only-of-type {\n",
       "        vertical-align: middle;\n",
       "    }\n",
       "\n",
       "    .dataframe tbody tr th {\n",
       "        vertical-align: top;\n",
       "    }\n",
       "\n",
       "    .dataframe thead th {\n",
       "        text-align: right;\n",
       "    }\n",
       "</style>\n",
       "<table border=\"1\" class=\"dataframe\">\n",
       "  <thead>\n",
       "    <tr style=\"text-align: right;\">\n",
       "      <th></th>\n",
       "      <th>artist_name</th>\n",
       "      <th>artist_uri</th>\n",
       "      <th>album_title</th>\n",
       "    </tr>\n",
       "  </thead>\n",
       "  <tbody>\n",
       "    <tr>\n",
       "      <th>0</th>\n",
       "      <td>The Unicorns</td>\n",
       "      <td>spotify:artist:7L5HH5QtkDe7u2hJ1FUKFo</td>\n",
       "      <td>Who Will Cut Our Hair When We're Gone? (Remast...</td>\n",
       "    </tr>\n",
       "    <tr>\n",
       "      <th>1</th>\n",
       "      <td>Saves The Day</td>\n",
       "      <td>spotify:artist:5gWhlJBlLQGLOgYWO8lwCU</td>\n",
       "      <td>Stay What You Are</td>\n",
       "    </tr>\n",
       "    <tr>\n",
       "      <th>2</th>\n",
       "      <td>Patti Smith</td>\n",
       "      <td>spotify:artist:0vYkHhJ48Bs3jWcvZXvOrP</td>\n",
       "      <td>Horses (Legacy Edition)</td>\n",
       "    </tr>\n",
       "    <tr>\n",
       "      <th>3</th>\n",
       "      <td>Bob Dylan</td>\n",
       "      <td>spotify:artist:74ASZWbe4lXaubB36ztrGX</td>\n",
       "      <td>Highway 61 Revisited</td>\n",
       "    </tr>\n",
       "    <tr>\n",
       "      <th>4</th>\n",
       "      <td>Veruca Salt</td>\n",
       "      <td>spotify:artist:2QwJQuBekTA4qF7N7uLHDP</td>\n",
       "      <td>Eight Arms To Hold You</td>\n",
       "    </tr>\n",
       "    <tr>\n",
       "      <th>5</th>\n",
       "      <td>Jack's Mannequin</td>\n",
       "      <td>spotify:artist:42aeGx2I3uXINpGqC8L0LD</td>\n",
       "      <td>Everything In Transit</td>\n",
       "    </tr>\n",
       "    <tr>\n",
       "      <th>6</th>\n",
       "      <td>Gorillaz</td>\n",
       "      <td>spotify:artist:3AA28KZvwAUcZuOKwyblJQ</td>\n",
       "      <td>The Now Now</td>\n",
       "    </tr>\n",
       "    <tr>\n",
       "      <th>7</th>\n",
       "      <td>Radiohead</td>\n",
       "      <td>spotify:artist:4Z8W4fKeB5YxbusRsdQVPb</td>\n",
       "      <td>OK Computer</td>\n",
       "    </tr>\n",
       "    <tr>\n",
       "      <th>8</th>\n",
       "      <td>Foster The People</td>\n",
       "      <td>spotify:artist:7gP3bB2nilZXLfPHJhMdvc</td>\n",
       "      <td>Torches</td>\n",
       "    </tr>\n",
       "    <tr>\n",
       "      <th>9</th>\n",
       "      <td>The Strokes</td>\n",
       "      <td>spotify:artist:0epOFNiUfyON9EYx7Tpr6V</td>\n",
       "      <td>The New Abnormal</td>\n",
       "    </tr>\n",
       "    <tr>\n",
       "      <th>10</th>\n",
       "      <td>Gorillaz</td>\n",
       "      <td>spotify:artist:3AA28KZvwAUcZuOKwyblJQ</td>\n",
       "      <td>Song Machine Episode 2</td>\n",
       "    </tr>\n",
       "    <tr>\n",
       "      <th>11</th>\n",
       "      <td>Blur</td>\n",
       "      <td>spotify:artist:7MhMgCo0Bl0Kukl93PZbYS</td>\n",
       "      <td>Blur [Special Edition]</td>\n",
       "    </tr>\n",
       "    <tr>\n",
       "      <th>12</th>\n",
       "      <td>Interpol</td>\n",
       "      <td>spotify:artist:3WaJSfKnzc65VDgmj2zU8B</td>\n",
       "      <td>Our Love To Admire</td>\n",
       "    </tr>\n",
       "  </tbody>\n",
       "</table>\n",
       "</div>"
      ],
      "text/plain": [
       "          artist_name                             artist_uri  \\\n",
       "0        The Unicorns  spotify:artist:7L5HH5QtkDe7u2hJ1FUKFo   \n",
       "1       Saves The Day  spotify:artist:5gWhlJBlLQGLOgYWO8lwCU   \n",
       "2         Patti Smith  spotify:artist:0vYkHhJ48Bs3jWcvZXvOrP   \n",
       "3           Bob Dylan  spotify:artist:74ASZWbe4lXaubB36ztrGX   \n",
       "4         Veruca Salt  spotify:artist:2QwJQuBekTA4qF7N7uLHDP   \n",
       "5    Jack's Mannequin  spotify:artist:42aeGx2I3uXINpGqC8L0LD   \n",
       "6            Gorillaz  spotify:artist:3AA28KZvwAUcZuOKwyblJQ   \n",
       "7           Radiohead  spotify:artist:4Z8W4fKeB5YxbusRsdQVPb   \n",
       "8   Foster The People  spotify:artist:7gP3bB2nilZXLfPHJhMdvc   \n",
       "9         The Strokes  spotify:artist:0epOFNiUfyON9EYx7Tpr6V   \n",
       "10           Gorillaz  spotify:artist:3AA28KZvwAUcZuOKwyblJQ   \n",
       "11               Blur  spotify:artist:7MhMgCo0Bl0Kukl93PZbYS   \n",
       "12           Interpol  spotify:artist:3WaJSfKnzc65VDgmj2zU8B   \n",
       "\n",
       "                                          album_title  \n",
       "0   Who Will Cut Our Hair When We're Gone? (Remast...  \n",
       "1                                   Stay What You Are  \n",
       "2                             Horses (Legacy Edition)  \n",
       "3                                Highway 61 Revisited  \n",
       "4                              Eight Arms To Hold You  \n",
       "5                               Everything In Transit  \n",
       "6                                         The Now Now  \n",
       "7                                         OK Computer  \n",
       "8                                             Torches  \n",
       "9                                    The New Abnormal  \n",
       "10                             Song Machine Episode 2  \n",
       "11                             Blur [Special Edition]  \n",
       "12                                 Our Love To Admire  "
      ]
     },
     "execution_count": 6,
     "metadata": {},
     "output_type": "execute_result"
    }
   ],
   "source": [
    "last_songs_dict = spotify.current_user_recently_played()['items']\n",
    "\n",
    "last_albumns = pd.DataFrame()\n",
    "for s in last_songs_dict:\n",
    "    \n",
    "    last_albumns = last_albumns.append(pd.DataFrame([[s['track']['artists'][0]['name'], \n",
    "                                                      s[\"track\"][\"artists\"][0][\"uri\"],\n",
    "                                                      s['track']['album']['name']]]))\n",
    "\n",
    "last_albumns.columns = [\"artist_name\", \"artist_uri\", \"album_title\"]\n",
    "\n",
    "last_albumns = last_albumns.drop_duplicates()\n",
    "last_albumns = last_albumns.reset_index(drop=True)\n",
    "\n",
    "last_albumns"
   ]
  },
  {
   "cell_type": "markdown",
   "metadata": {},
   "source": [
    "## Create Markdown of Recent Artists for Blog\n",
    "Someday, we will want this dynamic, but for now here is the script to create the markdown for our recently listened to artists"
   ]
  },
  {
   "cell_type": "code",
   "execution_count": 7,
   "metadata": {},
   "outputs": [
    {
     "name": "stdout",
     "output_type": "stream",
     "text": [
      "* [Patti Smith](https://open.spotify.com/artist/0vYkHhJ48Bs3jWcvZXvOrP)\n",
      "* [Saves The Day](https://open.spotify.com/artist/5gWhlJBlLQGLOgYWO8lwCU)\n",
      "* [The Unicorns](https://open.spotify.com/artist/7L5HH5QtkDe7u2hJ1FUKFo)\n",
      "* [Bob Dylan](https://open.spotify.com/artist/74ASZWbe4lXaubB36ztrGX)\n",
      "* [Jack's Mannequin](https://open.spotify.com/artist/42aeGx2I3uXINpGqC8L0LD)\n",
      "* [Gorillaz](https://open.spotify.com/artist/3AA28KZvwAUcZuOKwyblJQ)\n",
      "* [Blur](https://open.spotify.com/artist/7MhMgCo0Bl0Kukl93PZbYS)\n",
      "* [Fatoumata Diawara](https://open.spotify.com/artist/4G5ZJny3HvX6Il7eHVfnNC)\n",
      "* [Foster The People](https://open.spotify.com/artist/7gP3bB2nilZXLfPHJhMdvc)\n",
      "* [Interpol](https://open.spotify.com/artist/3WaJSfKnzc65VDgmj2zU8B)\n",
      "* [Jamie Principle](https://open.spotify.com/artist/5obQFNrkFoWB51hm1JTHMw)\n",
      "* [Radiohead](https://open.spotify.com/artist/4Z8W4fKeB5YxbusRsdQVPb)\n",
      "* [Snoop Dogg](https://open.spotify.com/artist/7hJcb9fa4alzcOq3EaNPoG)\n",
      "* [The Strokes](https://open.spotify.com/artist/0epOFNiUfyON9EYx7Tpr6V)\n",
      "* [Veruca Salt](https://open.spotify.com/artist/2QwJQuBekTA4qF7N7uLHDP)\n"
     ]
    }
   ],
   "source": [
    "last_songs_dict = spotify.current_user_recently_played()['items']\n",
    "\n",
    "artists = pd.DataFrame()\n",
    "\n",
    "# Look at each track\n",
    "for s in last_songs_dict:\n",
    "    # Look at each artist that contributed to the track\n",
    "    for a in s['track']['artists']:\n",
    "        \n",
    "        # save artist name, spotify reference uri, and link to their spotify page\n",
    "        artists = artists.append(pd.DataFrame([[\n",
    "            a[\"name\"], a[\"uri\"], a[\"external_urls\"][\"spotify\"]\n",
    "        ]]))\n",
    "\n",
    "artists.columns = [\"artist_name\", \"artist_uri\", \"artist_page\"]\n",
    "\n",
    "artist_counts = artists.groupby([\"artist_name\", \"artist_uri\", \"artist_page\"]).size().reset_index()\n",
    "\n",
    "artist_counts.columns = [\"artist_name\", \"artist_uri\", \"artist_page\", \"song_count\"]\n",
    "\n",
    "for i, r in artist_counts.sort_values(\"song_count\", ascending=False).iterrows():\n",
    "    print(\"* [\" + r[\"artist_name\"] + \"](\" + r[\"artist_page\"] +\")\")"
   ]
  },
  {
   "cell_type": "markdown",
   "metadata": {},
   "source": [
    "## Final Python Script\n",
    "\n",
    "`./<FILE_NAME.py> $SPOTIFY_TOKEN`\n",
    "\n",
    "```python\n",
    "#!/usr/local/bin/python3\n",
    "# Michelle Tanco - michelle.tanco@gmail.com\n",
    "# Create Markdown of Spotify Play History\n",
    "\n",
    "from spotipy import Spotify\n",
    "import pandas as pd\n",
    "import sys\n",
    "\n",
    "if len(sys.argv) < 2:\n",
    "    print(\"Please include your Spotify Token!\")\n",
    "    print(\"./<file_name.py> $SPOTIFY_TOKEN\")\n",
    "    sys.exit\n",
    "\n",
    "spotify = Spotify(auth=str(sys.argv[1]))\n",
    "\n",
    "last_songs_dict = spotify.current_user_recently_played()['items']\n",
    "\n",
    "artists = pd.DataFrame()\n",
    "\n",
    "# Look at each track\n",
    "for s in last_songs_dict:\n",
    "    # Look at each artist that contributed to the track\n",
    "    for a in s['track']['artists']:\n",
    "        # save artist name, spotify reference uri, and link to their spotify page\n",
    "        artists = artists.append(pd.DataFrame([[\n",
    "            a[\"name\"], a[\"uri\"], a[\"external_urls\"][\"spotify\"]\n",
    "        ]]))\n",
    "\n",
    "artists.columns = [\"artist_name\", \"artist_uri\", \"artist_page\"]\n",
    "\n",
    "artist_counts = artists.groupby([\"artist_name\", \"artist_uri\", \"artist_page\"]).size().reset_index()\n",
    "\n",
    "artist_counts.columns = [\"artist_name\", \"artist_uri\", \"artist_page\", \"song_count\"]\n",
    "\n",
    "for i, r in artist_counts.sort_values(\"song_count\", ascending=False).iterrows():\n",
    "    print(\"* [\" + r[\"artist_name\"] + \"](\" + r[\"artist_page\"] + \")\")\n",
    "\n",
    "```"
   ]
  },
  {
   "cell_type": "code",
   "execution_count": null,
   "metadata": {},
   "outputs": [],
   "source": []
  }
 ],
 "metadata": {
  "kernelspec": {
   "display_name": "Python 3",
   "language": "python",
   "name": "python3"
  },
  "language_info": {
   "codemirror_mode": {
    "name": "ipython",
    "version": 3
   },
   "file_extension": ".py",
   "mimetype": "text/x-python",
   "name": "python",
   "nbconvert_exporter": "python",
   "pygments_lexer": "ipython3",
   "version": "3.6.5"
  },
  "toc": {
   "base_numbering": 1,
   "nav_menu": {},
   "number_sections": true,
   "sideBar": true,
   "skip_h1_title": true,
   "title_cell": "Table of Contents",
   "title_sidebar": "Contents",
   "toc_cell": true,
   "toc_position": {
    "height": "calc(100% - 180px)",
    "left": "10px",
    "top": "150px",
    "width": "336px"
   },
   "toc_section_display": true,
   "toc_window_display": true
  }
 },
 "nbformat": 4,
 "nbformat_minor": 2
}
