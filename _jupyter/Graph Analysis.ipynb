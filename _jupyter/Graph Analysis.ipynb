{
 "cells": [
  {
   "cell_type": "code",
   "execution_count": 1,
   "metadata": {},
   "outputs": [
    {
     "name": "stderr",
     "output_type": "stream",
     "text": [
      "Warning message:\n",
      "\"package 'twitteR' was built under R version 3.4.4\"Warning message:\n",
      "\"package 'ROAuth' was built under R version 3.4.4\""
     ]
    }
   ],
   "source": [
    "library(twitteR)\n",
    "library(ROAuth)"
   ]
  },
  {
   "cell_type": "code",
   "execution_count": 4,
   "metadata": {},
   "outputs": [
    {
     "name": "stdout",
     "output_type": "stream",
     "text": [
      "[1] \"Using direct authentication\"\n"
     ]
    }
   ],
   "source": [
    "# Load existing twitter credentials\n",
    "load(\"C:\\\\Users\\\\mt186048\\\\Documents\\\\Projects - Data Science\\\\Bridges\\\\twitter authentication.Rdata\")\n",
    "setup_twitter_oauth(cred$consumerKey, cred$consumerSecret, cred$oauthKey, cred$oauthSecret)\n",
    "rm(cred)"
   ]
  },
  {
   "cell_type": "markdown",
   "metadata": {},
   "source": [
    "Who follows bridges??"
   ]
  },
  {
   "cell_type": "code",
   "execution_count": 5,
   "metadata": {
    "collapsed": true
   },
   "outputs": [],
   "source": [
    "sdotbridges <- getUser(\"SDOTbridges\")"
   ]
  },
  {
   "cell_type": "code",
   "execution_count": 7,
   "metadata": {},
   "outputs": [
    {
     "data": {
      "text/html": [
       "<table>\n",
       "<thead><tr><th scope=col>description</th><th scope=col>statusesCount</th><th scope=col>followersCount</th><th scope=col>favoritesCount</th><th scope=col>friendsCount</th><th scope=col>url</th><th scope=col>name</th><th scope=col>created</th><th scope=col>protected</th><th scope=col>verified</th><th scope=col>screenName</th><th scope=col>location</th><th scope=col>lang</th><th scope=col>id</th><th scope=col>listedCount</th><th scope=col>followRequestSent</th><th scope=col>profileImageUrl</th></tr></thead>\n",
       "<tbody>\n",
       "\t<tr><td>This is an automated account and is not monitored. Please use @seattleDOT or @SDOTtraffic to receive a response.</td><td>112152                                                                                                          </td><td>1804                                                                                                            </td><td>9                                                                                                               </td><td>2                                                                                                               </td><td>http://t.co/mXVhEIssoT                                                                                          </td><td>seattleDOTbridges                                                                                               </td><td>2014-08-25 22:09:34                                                                                             </td><td>FALSE                                                                                                           </td><td>FALSE                                                                                                           </td><td>SDOTbridges                                                                                                     </td><td>Seattle                                                                                                         </td><td>en                                                                                                              </td><td>2768116808                                                                                                      </td><td>103                                                                                                             </td><td>FALSE                                                                                                           </td><td>http://pbs.twimg.com/profile_images/773168752376504322/8rvxRt-6_normal.jpg                                      </td></tr>\n",
       "</tbody>\n",
       "</table>\n"
      ],
      "text/latex": [
       "\\begin{tabular}{r|lllllllllllllllll}\n",
       " description & statusesCount & followersCount & favoritesCount & friendsCount & url & name & created & protected & verified & screenName & location & lang & id & listedCount & followRequestSent & profileImageUrl\\\\\n",
       "\\hline\n",
       "\t This is an automated account and is not monitored. Please use @seattleDOT or @SDOTtraffic to receive a response. & 112152                                                                                                           & 1804                                                                                                             & 9                                                                                                                & 2                                                                                                                & http://t.co/mXVhEIssoT                                                                                           & seattleDOTbridges                                                                                                & 2014-08-25 22:09:34                                                                                              & FALSE                                                                                                            & FALSE                                                                                                            & SDOTbridges                                                                                                      & Seattle                                                                                                          & en                                                                                                               & 2768116808                                                                                                       & 103                                                                                                              & FALSE                                                                                                            & http://pbs.twimg.com/profile\\_images/773168752376504322/8rvxRt-6\\_normal.jpg                                  \\\\\n",
       "\\end{tabular}\n"
      ],
      "text/markdown": [
       "\n",
       "description | statusesCount | followersCount | favoritesCount | friendsCount | url | name | created | protected | verified | screenName | location | lang | id | listedCount | followRequestSent | profileImageUrl | \n",
       "|---|\n",
       "| This is an automated account and is not monitored. Please use @seattleDOT or @SDOTtraffic to receive a response. | 112152                                                                                                           | 1804                                                                                                             | 9                                                                                                                | 2                                                                                                                | http://t.co/mXVhEIssoT                                                                                           | seattleDOTbridges                                                                                                | 2014-08-25 22:09:34                                                                                              | FALSE                                                                                                            | FALSE                                                                                                            | SDOTbridges                                                                                                      | Seattle                                                                                                          | en                                                                                                               | 2768116808                                                                                                       | 103                                                                                                              | FALSE                                                                                                            | http://pbs.twimg.com/profile_images/773168752376504322/8rvxRt-6_normal.jpg                                       | \n",
       "\n",
       "\n"
      ],
      "text/plain": [
       "  description                                                                                                     \n",
       "1 This is an automated account and is not monitored. Please use @seattleDOT or @SDOTtraffic to receive a response.\n",
       "  statusesCount followersCount favoritesCount friendsCount\n",
       "1 112152        1804           9              2           \n",
       "  url                    name              created             protected\n",
       "1 http://t.co/mXVhEIssoT seattleDOTbridges 2014-08-25 22:09:34 FALSE    \n",
       "  verified screenName  location lang id         listedCount followRequestSent\n",
       "1 FALSE    SDOTbridges Seattle  en   2768116808 103         FALSE            \n",
       "  profileImageUrl                                                           \n",
       "1 http://pbs.twimg.com/profile_images/773168752376504322/8rvxRt-6_normal.jpg"
      ]
     },
     "metadata": {},
     "output_type": "display_data"
    }
   ],
   "source": [
    "sdotbridges$toDataFrame()"
   ]
  },
  {
   "cell_type": "code",
   "execution_count": 9,
   "metadata": {},
   "outputs": [],
   "source": [
    "sdotbridges_follows <- sdotbridges$getFriends()"
   ]
  },
  {
   "cell_type": "code",
   "execution_count": 10,
   "metadata": {},
   "outputs": [
    {
     "data": {
      "text/plain": [
       "$`936366064518160384`\n",
       "[1] \"SDOTtraffic\"\n",
       "\n",
       "$`18903178`\n",
       "[1] \"kcroads\"\n"
      ]
     },
     "metadata": {},
     "output_type": "display_data"
    }
   ],
   "source": [
    "sdotbridges_follows"
   ]
  },
  {
   "cell_type": "code",
   "execution_count": 11,
   "metadata": {
    "collapsed": true
   },
   "outputs": [],
   "source": [
    "sdotbridges_followers <- sdotbridges$getFollowers()"
   ]
  },
  {
   "cell_type": "code",
   "execution_count": 12,
   "metadata": {},
   "outputs": [
    {
     "ename": "ERROR",
     "evalue": "Error in sdotbridges_followers.count(): could not find function \"sdotbridges_followers.count\"\n",
     "output_type": "error",
     "traceback": [
      "Error in sdotbridges_followers.count(): could not find function \"sdotbridges_followers.count\"\nTraceback:\n",
      "1. print(sdotbridges_followers.count())"
     ]
    }
   ],
   "source": [
    "print(sdotbridges_followers.count())\n",
    "sdotbridges_followers.head()"
   ]
  },
  {
   "cell_type": "code",
   "execution_count": null,
   "metadata": {
    "collapsed": true
   },
   "outputs": [],
   "source": [
    "\n",
    "user$toDataFrame()\n",
    "friends <- user$getFriends() # who this user follows\n",
    "followers <- user$getFollowers() # this user's followers\n",
    "followers2 <- followers[[1]]$getFollowers() # a follower's followers"
   ]
  }
 ],
 "metadata": {
  "kernelspec": {
   "display_name": "R",
   "language": "R",
   "name": "ir"
  },
  "language_info": {
   "codemirror_mode": "r",
   "file_extension": ".r",
   "mimetype": "text/x-r-source",
   "name": "R",
   "pygments_lexer": "r",
   "version": "3.4.3"
  }
 },
 "nbformat": 4,
 "nbformat_minor": 2
}
